{
 "cells": [
  {
   "cell_type": "markdown",
   "metadata": {},
   "source": [
    "At this point R must be installed and this Py_notebook must recognize R (blue simbol upper right)\n",
    "then make sure you install or have installed the following packages."
   ]
  },
  {
   "cell_type": "code",
   "execution_count": 1,
   "metadata": {},
   "outputs": [
    {
     "name": "stderr",
     "output_type": "stream",
     "text": [
      "Installing package into 'C:/Users/janaya/Documents/R/win-library/3.5'\n",
      "(as 'lib' is unspecified)\n",
      "Warning message:\n",
      "\"unable to access index for repository https://cran.rstudio.com/bin/windows/contrib/3.5/viridis_0.5.1.zip/src/contrib:\n",
      "  no fue posible abrir la URL 'https://cran.rstudio.com/bin/windows/contrib/3.5/viridis_0.5.1.zip/src/contrib/PACKAGES'\"Warning message:\n",
      "\"package 'viridis' is not available (for R version 3.5.1)\"Warning message:\n",
      "\"unable to access index for repository https://cran.rstudio.com/bin/windows/contrib/3.5/viridis_0.5.1.zip/bin/windows/contrib/3.5:\n",
      "  no fue posible abrir la URL 'https://cran.rstudio.com/bin/windows/contrib/3.5/viridis_0.5.1.zip/bin/windows/contrib/3.5/PACKAGES'\"Installing package into 'C:/Users/janaya/Documents/R/win-library/3.5'\n",
      "(as 'lib' is unspecified)\n",
      "Warning message:\n",
      "\"unable to access index for repository https://cran.rstudio.com/bin/windows/contrib/3.5/rasterVis_0.45.zip/src/contrib:\n",
      "  no fue posible abrir la URL 'https://cran.rstudio.com/bin/windows/contrib/3.5/rasterVis_0.45.zip/src/contrib/PACKAGES'\"Warning message:\n",
      "\"package 'rasterVis' is not available (for R version 3.5.1)\"Warning message:\n",
      "\"unable to access index for repository https://cran.rstudio.com/bin/windows/contrib/3.5/rasterVis_0.45.zip/bin/windows/contrib/3.5:\n",
      "  no fue posible abrir la URL 'https://cran.rstudio.com/bin/windows/contrib/3.5/rasterVis_0.45.zip/bin/windows/contrib/3.5/PACKAGES'\"Installing package into 'C:/Users/janaya/Documents/R/win-library/3.5'\n",
      "(as 'lib' is unspecified)\n"
     ]
    },
    {
     "ename": "ERROR",
     "evalue": "Error in contrib.url(repos, \"source\"): trying to use CRAN without setting a mirror\n",
     "output_type": "error",
     "traceback": [
      "Error in contrib.url(repos, \"source\"): trying to use CRAN without setting a mirror\nTraceback:\n",
      "1. install.packages(\"raster\")",
      "2. contrib.url(repos, \"source\")",
      "3. stop(\"trying to use CRAN without setting a mirror\")"
     ]
    }
   ],
   "source": [
    "#install.packages(\"vioplot\", repo = \"https://lib.ugent.be/CRAN/\")\n",
    "#help(package = \"package\")\n",
    "#packageDescription(\"package\")\n",
    "\n",
    "install.packages(\"viridis\", repo = \"https://cran.rstudio.com/bin/windows/contrib/3.5/viridis_0.5.1.zip\")\n",
    "install.packages(\"rasterVis\", repo = \"https://cran.rstudio.com/bin/windows/contrib/3.5/rasterVis_0.45.zip\")\n",
    "install.packages(\"raster\")\n",
    "install.packages(\"rgdal\")\n",
    "install.packages(\"viridisLite\")\n",
    "install.packages(\"reshape\", repo =\"https://cran.rstudio.com/bin/windows/contrib/3.5/reshape_0.8.8.zip\")\n",
    "\n"
   ]
  },
  {
   "cell_type": "markdown",
   "metadata": {},
   "source": [
    "httr is needed for submitting requests and interact with the web server, the answer of the server must be converted into a familiar structure, here we use jsonlite.  ggplot, scales and viridis are requerid for plotting"
   ]
  },
  {
   "cell_type": "code",
   "execution_count": 2,
   "metadata": {},
   "outputs": [
    {
     "name": "stderr",
     "output_type": "stream",
     "text": [
      "Warning message:\n",
      "\"package 'httr' was built under R version 3.5.3\"Warning message:\n",
      "\"package 'jsonlite' was built under R version 3.5.3\"Warning message:\n",
      "\"package 'reshape' was built under R version 3.5.3\"Warning message:\n",
      "\"package 'ggplot2' was built under R version 3.5.3\"Warning message:\n",
      "\"package 'scales' was built under R version 3.5.3\"Warning message:\n",
      "\"package 'viridis' was built under R version 3.5.3\"Loading required package: viridisLite\n",
      "Warning message:\n",
      "\"package 'viridisLite' was built under R version 3.5.3\"\n",
      "Attaching package: 'viridis'\n",
      "\n",
      "The following object is masked from 'package:scales':\n",
      "\n",
      "    viridis_pal\n",
      "\n",
      "Loading required package: gridExtra\n",
      "Warning message:\n",
      "\"package 'gridExtra' was built under R version 3.5.3\"Warning message:\n",
      "\"package 'raster' was built under R version 3.5.3\"Loading required package: sp\n",
      "Warning message:\n",
      "\"package 'sp' was built under R version 3.5.3\"Warning message:\n",
      "\"package 'rasterVis' was built under R version 3.5.3\"Loading required package: lattice\n",
      "Loading required package: latticeExtra\n",
      "Warning message:\n",
      "\"package 'latticeExtra' was built under R version 3.5.3\"Loading required package: RColorBrewer\n",
      "Warning message:\n",
      "\"package 'RColorBrewer' was built under R version 3.5.2\"\n",
      "Attaching package: 'latticeExtra'\n",
      "\n",
      "The following object is masked from 'package:ggplot2':\n",
      "\n",
      "    layer\n",
      "\n"
     ]
    }
   ],
   "source": [
    "# Web service interaction:\n",
    "library(httr)\n",
    "library(jsonlite)\n",
    "\n",
    "# Plots:\n",
    "library(reshape)\n",
    "library(ggplot2)\n",
    "library(scales)\n",
    "library(viridis)\n",
    "require(gridExtra)\n",
    "\n",
    "\n",
    "# Rasters:\n",
    "library(raster)\n",
    "library(rasterVis)\n",
    "\n",
    "options(warn=-1)"
   ]
  },
  {
   "cell_type": "markdown",
   "metadata": {},
   "source": [
    "200 means that we got a response from the server. Note that a list called \"response\" is created using \"GET\", base on products info of the web page, it creates a list of the \"products\" available at the web page."
   ]
  },
  {
   "cell_type": "code",
   "execution_count": 3,
   "metadata": {},
   "outputs": [
    {
     "data": {
      "text/html": [
       "'Success: (200) OK'"
      ],
      "text/latex": [
       "'Success: (200) OK'"
      ],
      "text/markdown": [
       "'Success: (200) OK'"
      ],
      "text/plain": [
       "[1] \"Success: (200) OK\""
      ]
     },
     "metadata": {},
     "output_type": "display_data"
    }
   ],
   "source": [
    "url <- \"https://modis.ornl.gov/rst/api/v1/\"\n",
    "\n",
    "response <- GET(\"https://modis.ornl.gov/rst/api/v1/products\")\n",
    "http_status(response)$message"
   ]
  },
  {
   "cell_type": "markdown",
   "metadata": {},
   "source": [
    "Here there is a list of the product number 27, which correspond to the VNP13A1 product"
   ]
  },
  {
   "cell_type": "code",
   "execution_count": 4,
   "metadata": {},
   "outputs": [
    {
     "data": {
      "text/html": [
       "'list'"
      ],
      "text/latex": [
       "'list'"
      ],
      "text/markdown": [
       "'list'"
      ],
      "text/plain": [
       "[1] \"list\""
      ]
     },
     "metadata": {},
     "output_type": "display_data"
    },
    {
     "data": {
      "text/html": [
       "<ol>\n",
       "\t<li><dl>\n",
       "\t<dt>$product</dt>\n",
       "\t\t<dd>'VNP09H1'</dd>\n",
       "\t<dt>$description</dt>\n",
       "\t\t<dd>'VIIRS/S-NPP Surface Reflectance (SREF) 8-Day L3 Global 500m SIN Grid'</dd>\n",
       "\t<dt>$frequency</dt>\n",
       "\t\t<dd>'8-Day'</dd>\n",
       "\t<dt>$resolution_meters</dt>\n",
       "\t\t<dd>500</dd>\n",
       "</dl>\n",
       "</li>\n",
       "\t<li><dl>\n",
       "\t<dt>$product</dt>\n",
       "\t\t<dd>'VNP13A1'</dd>\n",
       "\t<dt>$description</dt>\n",
       "\t\t<dd>'VIIRS/S-NPP Vegetation Indices (NDVI/EVI) 16-Day L3 Global 500m SIN Grid'</dd>\n",
       "\t<dt>$frequency</dt>\n",
       "\t\t<dd>'16-Day'</dd>\n",
       "\t<dt>$resolution_meters</dt>\n",
       "\t\t<dd>500</dd>\n",
       "</dl>\n",
       "</li>\n",
       "</ol>\n"
      ],
      "text/latex": [
       "\\begin{enumerate}\n",
       "\\item \\begin{description}\n",
       "\\item[\\$product] 'VNP09H1'\n",
       "\\item[\\$description] 'VIIRS/S-NPP Surface Reflectance (SREF) 8-Day L3 Global 500m SIN Grid'\n",
       "\\item[\\$frequency] '8-Day'\n",
       "\\item[\\$resolution\\_meters] 500\n",
       "\\end{description}\n",
       "\n",
       "\\item \\begin{description}\n",
       "\\item[\\$product] 'VNP13A1'\n",
       "\\item[\\$description] 'VIIRS/S-NPP Vegetation Indices (NDVI/EVI) 16-Day L3 Global 500m SIN Grid'\n",
       "\\item[\\$frequency] '16-Day'\n",
       "\\item[\\$resolution\\_meters] 500\n",
       "\\end{description}\n",
       "\n",
       "\\end{enumerate}\n"
      ],
      "text/markdown": [
       "1. $product\n",
       ":   'VNP09H1'\n",
       "$description\n",
       ":   'VIIRS/S-NPP Surface Reflectance (SREF) 8-Day L3 Global 500m SIN Grid'\n",
       "$frequency\n",
       ":   '8-Day'\n",
       "$resolution_meters\n",
       ":   500\n",
       "\n",
       "\n",
       "\n",
       "2. $product\n",
       ":   'VNP13A1'\n",
       "$description\n",
       ":   'VIIRS/S-NPP Vegetation Indices (NDVI/EVI) 16-Day L3 Global 500m SIN Grid'\n",
       "$frequency\n",
       ":   '16-Day'\n",
       "$resolution_meters\n",
       ":   500\n",
       "\n",
       "\n",
       "\n",
       "\n",
       "\n"
      ],
      "text/plain": [
       "[[1]]\n",
       "[[1]]$product\n",
       "[1] \"VNP09H1\"\n",
       "\n",
       "[[1]]$description\n",
       "[1] \"VIIRS/S-NPP Surface Reflectance (SREF) 8-Day L3 Global 500m SIN Grid\"\n",
       "\n",
       "[[1]]$frequency\n",
       "[1] \"8-Day\"\n",
       "\n",
       "[[1]]$resolution_meters\n",
       "[1] 500\n",
       "\n",
       "\n",
       "[[2]]\n",
       "[[2]]$product\n",
       "[1] \"VNP13A1\"\n",
       "\n",
       "[[2]]$description\n",
       "[1] \"VIIRS/S-NPP Vegetation Indices (NDVI/EVI) 16-Day L3 Global 500m SIN Grid\"\n",
       "\n",
       "[[2]]$frequency\n",
       "[1] \"16-Day\"\n",
       "\n",
       "[[2]]$resolution_meters\n",
       "[1] 500\n",
       "\n"
      ]
     },
     "metadata": {},
     "output_type": "display_data"
    }
   ],
   "source": [
    "products <- content(response)$products\n",
    "typeof(products)\n",
    "products[26:27]"
   ]
  },
  {
   "cell_type": "markdown",
   "metadata": {},
   "source": [
    "Now define the location for the time series, there is a iteration of ten modis dates to avoid web server timing out.  This is the \"date\" function where the first 10 dates of VIIRS data is shown"
   ]
  },
  {
   "cell_type": "code",
   "execution_count": 5,
   "metadata": {},
   "outputs": [
    {
     "data": {
      "text/html": [
       "<ol class=list-inline>\n",
       "\t<li>'A2012017'</li>\n",
       "\t<li>'A2012025'</li>\n",
       "\t<li>'A2012033'</li>\n",
       "\t<li>'A2012041'</li>\n",
       "\t<li>'A2012049'</li>\n",
       "\t<li>'A2012057'</li>\n",
       "\t<li>'A2012065'</li>\n",
       "\t<li>'A2012073'</li>\n",
       "\t<li>'A2012081'</li>\n",
       "\t<li>'A2012089'</li>\n",
       "</ol>\n"
      ],
      "text/latex": [
       "\\begin{enumerate*}\n",
       "\\item 'A2012017'\n",
       "\\item 'A2012025'\n",
       "\\item 'A2012033'\n",
       "\\item 'A2012041'\n",
       "\\item 'A2012049'\n",
       "\\item 'A2012057'\n",
       "\\item 'A2012065'\n",
       "\\item 'A2012073'\n",
       "\\item 'A2012081'\n",
       "\\item 'A2012089'\n",
       "\\end{enumerate*}\n"
      ],
      "text/markdown": [
       "1. 'A2012017'\n",
       "2. 'A2012025'\n",
       "3. 'A2012033'\n",
       "4. 'A2012041'\n",
       "5. 'A2012049'\n",
       "6. 'A2012057'\n",
       "7. 'A2012065'\n",
       "8. 'A2012073'\n",
       "9. 'A2012081'\n",
       "10. 'A2012089'\n",
       "\n",
       "\n"
      ],
      "text/plain": [
       " [1] \"A2012017\" \"A2012025\" \"A2012033\" \"A2012041\" \"A2012049\" \"A2012057\"\n",
       " [7] \"A2012065\" \"A2012073\" \"A2012081\" \"A2012089\""
      ]
     },
     "metadata": {},
     "output_type": "display_data"
    }
   ],
   "source": [
    "# Set dates request parameters\n",
    "prod <- 'VNP13A1'   # MODIS product  #note that this is VIIRS data, but this is a minor error along the code.\n",
    "lat <- 35.71326     # Input latitude\n",
    "lon <- -83.51047    # Input longitude\n",
    "\n",
    "r <- GET(paste0(\"https://modis.ornl.gov/rst/api/v1/\",prod,\"/dates?latitude=\",lat,\"&longitude=\",lon)) # Get dates response\n",
    "dates <- content(r)$dates # Parse response object to list\n",
    "modis_dates <- unlist(lapply(dates, function(dt) dt$modis_date)) # Split list of lists into list of modis date strings\n",
    "calendar_dates <- as.Date(unlist(lapply(dates, function(dt) dt$calendar_date))) # and also into R date objects\n",
    "doys <- substr(modis_dates,start=6,stop=8) # Also get a list of days of the year\n",
    "\n",
    "# Print the first ten modis dates\n",
    "paste(modis_dates[1:10])  "
   ]
  },
  {
   "cell_type": "markdown",
   "metadata": {},
   "source": [
    "url, prod, lat, lon were defined above, now other variables are defined as data band, QC band and a buffer around the lat,lon center previously defined.  Start date and end date (modis_dates) are also needed to subset spatial data, note the $subset below, it has 81 numbers since we have 9 files and 9 columns.  Also note that \"scale\" is needed to change from integers to floats.  Here we are building a request GET to the web server."
   ]
  },
  {
   "cell_type": "code",
   "execution_count": 6,
   "metadata": {},
   "outputs": [
    {
     "data": {
      "text/html": [
       "<dl>\n",
       "\t<dt>$xllcorner</dt>\n",
       "\t\t<dd>'-7541804.45'</dd>\n",
       "\t<dt>$yllcorner</dt>\n",
       "\t\t<dd>'3969200.01'</dd>\n",
       "\t<dt>$cellsize</dt>\n",
       "\t\t<dd>463.3127</dd>\n",
       "\t<dt>$nrows</dt>\n",
       "\t\t<dd>9</dd>\n",
       "\t<dt>$ncols</dt>\n",
       "\t\t<dd>9</dd>\n",
       "\t<dt>$band</dt>\n",
       "\t\t<dd>'500_m_16_days_EVI2'</dd>\n",
       "\t<dt>$units</dt>\n",
       "\t\t<dd>'EVI2 ratio - No units'</dd>\n",
       "\t<dt>$scale</dt>\n",
       "\t\t<dd>'0.0001'</dd>\n",
       "\t<dt>$latitude</dt>\n",
       "\t\t<dd>35.7133</dd>\n",
       "\t<dt>$longitude</dt>\n",
       "\t\t<dd>-83.5105</dd>\n",
       "\t<dt>$header</dt>\n",
       "\t\t<dd>'https://modis.ornl.gov/rst/api/v1/VNP13A1/subset?latitude=35.71326&amp;longitude=-83.51047&amp;band=500_m_16_days_EVI2&amp;startDate=A2012017&amp;endDate=A2012017&amp;kmAboveBelow=2&amp;kmLeftRight=2'</dd>\n",
       "\t<dt>$subset</dt>\n",
       "\t\t<dd><table>\n",
       "<thead><tr><th scope=col>modis_date</th><th scope=col>calendar_date</th><th scope=col>band</th><th scope=col>tile</th><th scope=col>proc_date</th><th scope=col>data</th></tr></thead>\n",
       "<tbody>\n",
       "\t<tr><td>A2012017                                                                                                                                                                                                                                                                                                                                                                                                                                                                                           </td><td>2012-01-17                                                                                                                                                                                                                                                                                                                                                                                                                                                                                         </td><td>500_m_16_days_EVI2                                                                                                                                                                                                                                                                                                                                                                                                                                                                                 </td><td>h11v05                                                                                                                                                                                                                                                                                                                                                                                                                                                                                             </td><td>2018137160532                                                                                                                                                                                                                                                                                                                                                                                                                                                                                      </td><td>1920, 2032, 2042, 1744, 1887, 1588, 1588, 1932, 2154, 2048, 1778, 1448, 1493, 1493, 1388, 1698, 2326, 2385, 1593, 1772, 1593, 2186, 1779, 1519, 1760, 2001, 2375, 1922, 2152, 2090, 2090, 1554, 1720, 2169, 1954, 2244, 1497, 1497, 1778, 2060, 1421, 1372, 1501, 1757, 1106, 2426, 2239, 2235, 1814, 1697, 1653, 1621, 1577, 1417, 1812, 1576, 1473, 1686, 2385, 2876, 2059, 2059, 1997, 1767, 2030, 1809, 1694, 900, 1354, 2570, 2024, 1905, 1958, 1958, 2643, 1569, 1128, 1851, 2955, 3292, 2222</td></tr>\n",
       "</tbody>\n",
       "</table>\n",
       "</dd>\n",
       "</dl>\n"
      ],
      "text/latex": [
       "\\begin{description}\n",
       "\\item[\\$xllcorner] '-7541804.45'\n",
       "\\item[\\$yllcorner] '3969200.01'\n",
       "\\item[\\$cellsize] 463.3127\n",
       "\\item[\\$nrows] 9\n",
       "\\item[\\$ncols] 9\n",
       "\\item[\\$band] '500\\_m\\_16\\_days\\_EVI2'\n",
       "\\item[\\$units] 'EVI2 ratio - No units'\n",
       "\\item[\\$scale] '0.0001'\n",
       "\\item[\\$latitude] 35.7133\n",
       "\\item[\\$longitude] -83.5105\n",
       "\\item[\\$header] 'https://modis.ornl.gov/rst/api/v1/VNP13A1/subset?latitude=35.71326\\&longitude=-83.51047\\&band=500\\_m\\_16\\_days\\_EVI2\\&startDate=A2012017\\&endDate=A2012017\\&kmAboveBelow=2\\&kmLeftRight=2'\n",
       "\\item[\\$subset] \\begin{tabular}{r|llllll}\n",
       " modis\\_date & calendar\\_date & band & tile & proc\\_date & data\\\\\n",
       "\\hline\n",
       "\t A2012017                                                                                                                                                                                                                                                                                                                                                                                                                                                                                            & 2012-01-17                                                                                                                                                                                                                                                                                                                                                                                                                                                                                          & 500\\_m\\_16\\_days\\_EVI2                                                                                                                                                                                                                                                                                                                                                                                                                                                                          & h11v05                                                                                                                                                                                                                                                                                                                                                                                                                                                                                              & 2018137160532                                                                                                                                                                                                                                                                                                                                                                                                                                                                                       & 1920, 2032, 2042, 1744, 1887, 1588, 1588, 1932, 2154, 2048, 1778, 1448, 1493, 1493, 1388, 1698, 2326, 2385, 1593, 1772, 1593, 2186, 1779, 1519, 1760, 2001, 2375, 1922, 2152, 2090, 2090, 1554, 1720, 2169, 1954, 2244, 1497, 1497, 1778, 2060, 1421, 1372, 1501, 1757, 1106, 2426, 2239, 2235, 1814, 1697, 1653, 1621, 1577, 1417, 1812, 1576, 1473, 1686, 2385, 2876, 2059, 2059, 1997, 1767, 2030, 1809, 1694, 900, 1354, 2570, 2024, 1905, 1958, 1958, 2643, 1569, 1128, 1851, 2955, 3292, 2222\\\\\n",
       "\\end{tabular}\n",
       "\n",
       "\\end{description}\n"
      ],
      "text/markdown": [
       "$xllcorner\n",
       ":   '-7541804.45'\n",
       "$yllcorner\n",
       ":   '3969200.01'\n",
       "$cellsize\n",
       ":   463.3127\n",
       "$nrows\n",
       ":   9\n",
       "$ncols\n",
       ":   9\n",
       "$band\n",
       ":   '500_m_16_days_EVI2'\n",
       "$units\n",
       ":   'EVI2 ratio - No units'\n",
       "$scale\n",
       ":   '0.0001'\n",
       "$latitude\n",
       ":   35.7133\n",
       "$longitude\n",
       ":   -83.5105\n",
       "$header\n",
       ":   'https://modis.ornl.gov/rst/api/v1/VNP13A1/subset?latitude=35.71326&amp;longitude=-83.51047&amp;band=500_m_16_days_EVI2&amp;startDate=A2012017&amp;endDate=A2012017&amp;kmAboveBelow=2&amp;kmLeftRight=2'\n",
       "$subset\n",
       ":   \n",
       "modis_date | calendar_date | band | tile | proc_date | data | \n",
       "|---|\n",
       "| A2012017                                                                                                                                                                                                                                                                                                                                                                                                                                                                                            | 2012-01-17                                                                                                                                                                                                                                                                                                                                                                                                                                                                                          | 500_m_16_days_EVI2                                                                                                                                                                                                                                                                                                                                                                                                                                                                                  | h11v05                                                                                                                                                                                                                                                                                                                                                                                                                                                                                              | 2018137160532                                                                                                                                                                                                                                                                                                                                                                                                                                                                                       | 1920, 2032, 2042, 1744, 1887, 1588, 1588, 1932, 2154, 2048, 1778, 1448, 1493, 1493, 1388, 1698, 2326, 2385, 1593, 1772, 1593, 2186, 1779, 1519, 1760, 2001, 2375, 1922, 2152, 2090, 2090, 1554, 1720, 2169, 1954, 2244, 1497, 1497, 1778, 2060, 1421, 1372, 1501, 1757, 1106, 2426, 2239, 2235, 1814, 1697, 1653, 1621, 1577, 1417, 1812, 1576, 1473, 1686, 2385, 2876, 2059, 2059, 1997, 1767, 2030, 1809, 1694, 900, 1354, 2570, 2024, 1905, 1958, 1958, 2643, 1569, 1128, 1851, 2955, 3292, 2222 | \n",
       "\n",
       "\n",
       "\n",
       "\n",
       "\n"
      ],
      "text/plain": [
       "$xllcorner\n",
       "[1] \"-7541804.45\"\n",
       "\n",
       "$yllcorner\n",
       "[1] \"3969200.01\"\n",
       "\n",
       "$cellsize\n",
       "[1] 463.3127\n",
       "\n",
       "$nrows\n",
       "[1] 9\n",
       "\n",
       "$ncols\n",
       "[1] 9\n",
       "\n",
       "$band\n",
       "[1] \"500_m_16_days_EVI2\"\n",
       "\n",
       "$units\n",
       "[1] \"EVI2 ratio - No units\"\n",
       "\n",
       "$scale\n",
       "[1] \"0.0001\"\n",
       "\n",
       "$latitude\n",
       "[1] 35.7133\n",
       "\n",
       "$longitude\n",
       "[1] -83.5105\n",
       "\n",
       "$header\n",
       "[1] \"https://modis.ornl.gov/rst/api/v1/VNP13A1/subset?latitude=35.71326&longitude=-83.51047&band=500_m_16_days_EVI2&startDate=A2012017&endDate=A2012017&kmAboveBelow=2&kmLeftRight=2\"\n",
       "\n",
       "$subset\n",
       "  modis_date calendar_date               band   tile     proc_date\n",
       "1   A2012017    2012-01-17 500_m_16_days_EVI2 h11v05 2018137160532\n",
       "                                                                                                                                                                                                                                                                                                                                                                                                                                                                                                 data\n",
       "1 1920, 2032, 2042, 1744, 1887, 1588, 1588, 1932, 2154, 2048, 1778, 1448, 1493, 1493, 1388, 1698, 2326, 2385, 1593, 1772, 1593, 2186, 1779, 1519, 1760, 2001, 2375, 1922, 2152, 2090, 2090, 1554, 1720, 2169, 1954, 2244, 1497, 1497, 1778, 2060, 1421, 1372, 1501, 1757, 1106, 2426, 2239, 2235, 1814, 1697, 1653, 1621, 1577, 1417, 1812, 1576, 1473, 1686, 2385, 2876, 2059, 2059, 1997, 1767, 2030, 1809, 1694, 900, 1354, 2570, 2024, 1905, 1958, 1958, 2643, 1569, 1128, 1851, 2955, 3292, 2222\n"
      ]
     },
     "metadata": {},
     "output_type": "display_data"
    }
   ],
   "source": [
    "# Set the remaining subset request parameters\n",
    "data_band <- '500_m_16_days_EVI2'        # Daytime EVI2 band name\n",
    "qc_band <- '500_m_16_days_VI_Quality'    # Daytime QC band name\n",
    "above_below <- 2                         # km above/below\n",
    "left_right <- 2                          # km left/right\n",
    "\n",
    "requestURL <- function(latitude, longitude, product, band, start_date, end_date, kmAB, kmLR){\n",
    "    return(\n",
    "        paste0(\n",
    "            url,product,\"/subset?\",\n",
    "            \"latitude=\",latitude,\n",
    "            \"&longitude=\",longitude,\n",
    "            \"&band=\",band,\n",
    "            \"&startDate=\",start_date,\n",
    "            \"&endDate=\",end_date,\n",
    "            \"&kmAboveBelow=\",kmAB,\n",
    "            \"&kmLeftRight=\",kmLR\n",
    "        )\n",
    "    )\n",
    "}\n",
    "\n",
    "r <- GET(requestURL(lat, lon, prod, data_band, modis_dates[1], modis_dates[1], above_below, left_right))\n",
    "subset <- fromJSON(toJSON(content(r)))\n",
    "subset"
   ]
  },
  {
   "cell_type": "markdown",
   "metadata": {},
   "source": [
    "Here few variables are created with the metadata just listed.  This will be used later. csv stands for Comma Separated Values.  note the use of \"as.integer\" and \"as.double\"."
   ]
  },
  {
   "cell_type": "code",
   "execution_count": 7,
   "metadata": {},
   "outputs": [
    {
     "name": "stdout",
     "output_type": "stream",
     "text": [
      "Row count:  9 \n",
      "Col count:  9 \n",
      "Lower left X:  -7541804 \n",
      "Lower left Y:  3969200 \n",
      "Pixel size:  463.3127 \n",
      "Scale factor:  1e-04"
     ]
    }
   ],
   "source": [
    "nrow <- as.integer(subset$nrow)             # number of rows\n",
    "ncol <- as.integer(subset$ncol)             # number of columns\n",
    "xllcorner <- as.double(subset$xllcorner)    # lower left hand corner x-coordinate\n",
    "yllcorner <- as.double(subset$yllcorner)    # lower left hand corner y-coordinate\n",
    "cellsize <- as.double(subset$cellsize)      # pixel size\n",
    "scale <- as.double(subset$scale)            # scale factor\n",
    "\n",
    "cat(\n",
    "    \"Row count: \",nrow,\n",
    "    \"\\nCol count: \",ncol,\n",
    "    \"\\nLower left X: \",xllcorner,\n",
    "    \"\\nLower left Y: \",yllcorner,\n",
    "    \"\\nPixel size: \",cellsize,\n",
    "    \"\\nScale factor: \",scale\n",
    ")"
   ]
  },
  {
   "cell_type": "markdown",
   "metadata": {},
   "source": [
    "Now the 81 cells from 2012017 are listed in a row.  So each file is a data and each column is a pixel."
   ]
  },
  {
   "cell_type": "code",
   "execution_count": 8,
   "metadata": {},
   "outputs": [
    {
     "data": {
      "text/html": [
       "<table>\n",
       "<tbody>\n",
       "\t<tr><th scope=row>A2012017</th><td>0.192 </td><td>0.2032</td><td>0.2042</td><td>0.1744</td><td>0.1887</td><td>0.1588</td><td>0.1588</td><td>0.1932</td><td>0.2154</td><td>0.2048</td><td>...   </td><td>0.1905</td><td>0.1958</td><td>0.1958</td><td>0.2643</td><td>0.1569</td><td>0.1128</td><td>0.1851</td><td>0.2955</td><td>0.3292</td><td>0.2222</td></tr>\n",
       "</tbody>\n",
       "</table>\n"
      ],
      "text/latex": [
       "\\begin{tabular}{r|lllllllllllllllllllllllllllllllllllllllllllllllllllllllllllllllllllllllllllllllll}\n",
       "\tA2012017 & 0.192  & 0.2032 & 0.2042 & 0.1744 & 0.1887 & 0.1588 & 0.1588 & 0.1932 & 0.2154 & 0.2048 & ...    & 0.1905 & 0.1958 & 0.1958 & 0.2643 & 0.1569 & 0.1128 & 0.1851 & 0.2955 & 0.3292 & 0.2222\\\\\n",
       "\\end{tabular}\n"
      ],
      "text/markdown": [
       "\n",
       "| A2012017 | 0.192  | 0.2032 | 0.2042 | 0.1744 | 0.1887 | 0.1588 | 0.1588 | 0.1932 | 0.2154 | 0.2048 | ...    | 0.1905 | 0.1958 | 0.1958 | 0.2643 | 0.1569 | 0.1128 | 0.1851 | 0.2955 | 0.3292 | 0.2222 | \n",
       "\n",
       "\n"
      ],
      "text/plain": [
       "         [,1]  [,2]   [,3]   [,4]   [,5]   [,6]   [,7]   [,8]   [,9]   [,10] \n",
       "A2012017 0.192 0.2032 0.2042 0.1744 0.1887 0.1588 0.1588 0.1932 0.2154 0.2048\n",
       "         [,11] [,12]  [,13]  [,14]  [,15]  [,16]  [,17]  [,18]  [,19]  [,20] \n",
       "A2012017 ...   0.1905 0.1958 0.1958 0.2643 0.1569 0.1128 0.1851 0.2955 0.3292\n",
       "         [,21] \n",
       "A2012017 0.2222"
      ]
     },
     "metadata": {},
     "output_type": "display_data"
    }
   ],
   "source": [
    "# Get subset$subset$data as a new data frame and transpose so that rows are timesteps and columns are pixels\n",
    "format_subset <- t(as.data.frame(subset$subset$data, col.names=subset$subset$modis_date, check.names=FALSE))\n",
    "format_subset <- format_subset*as.numeric(scale)\n",
    "format_subset"
   ]
  },
  {
   "cell_type": "markdown",
   "metadata": {},
   "source": [
    "Now we want to create a raster with the list and visualize it as a matrix.  Note in the last two lines of the next code block the result can be printed as TIFF files with their associated projection."
   ]
  },
  {
   "cell_type": "code",
   "execution_count": 9,
   "metadata": {},
   "outputs": [
    {
     "data": {
      "text/plain": [
       "class       : RasterLayer \n",
       "dimensions  : 9, 9, 81  (nrow, ncol, ncell)\n",
       "resolution  : 463.3127, 463.3127  (x, y)\n",
       "extent      : -7541804, -7537635, 3969200, 3973370  (xmin, xmax, ymin, ymax)\n",
       "coord. ref. : +proj=sinu +lon_0=0 +x_0=0 +y_0=0 +a=6371007.181 +b=6371007.181 +units=m +no_defs \n",
       "data source : in memory\n",
       "names       : layer \n",
       "values      : 0.09, 0.3292  (min, max)\n"
      ]
     },
     "metadata": {},
     "output_type": "display_data"
    },
    {
     "data": {
      "image/png": "[encoded data removed]",
      "text/plain": [
       "plot without title"
      ]
     },
     "metadata": {},
     "output_type": "display_data"
    }
   ],
   "source": [
    "# Make function to create raster objects\n",
    "r_template <- function(vals, nrow,ncol,xllcorner,yllcorner,cellsize){\n",
    "    return(\n",
    "        raster(\n",
    "            vals = vals,\n",
    "            nrows = nrow,\n",
    "            ncols = ncol,\n",
    "            xmn = xllcorner,\n",
    "            xmx = xllcorner + (ncol*cellsize),\n",
    "            ymn = yllcorner,\n",
    "            ymx = yllcorner + (nrow*cellsize),\n",
    "            crs = '+proj=sinu +lon_0=0 +x_0=0 +y_0=0 +a=6371007.181 +b=6371007.181 +units=m +no_defs ',\n",
    "            resolution = cellsize \n",
    "        )\n",
    "    )\n",
    "}\n",
    "\n",
    "# Use subset metadata and the new function to make raster object\n",
    "r_subset <- r_template(format_subset, nrow, ncol, xllcorner, yllcorner, cellsize)\n",
    "# Warp to WGS84 as another raster object\n",
    "r_subset_wgs84 <- projectRaster(r_subset, crs = '+proj=longlat +ellps=WGS84 +datum=WGS84 +no_defs ')\n",
    "\n",
    "# Plot both with rasterVis::levelplot\n",
    "r_ras1 <- levelplot(r_subset, main = paste0(\"EVI on \",subset$subset$calendar_date,\" (Sinu)\"), margin = FALSE)\n",
    "r_ras2 <- levelplot(r_subset_wgs84, main = paste0(\"EVI on \",subset$subset$calendar_date,\" (WGS84)\"), margin = FALSE)\n",
    "\n",
    "r_subset # Print raster (sinu) details\n",
    "grid.arrange(r_ras1, r_ras2, ncol=2) # Display raster grids with gridExtra::grid.arrange\n",
    "\n",
    "# Save raster objects as GeoTIFFs\n",
    "#writeRaster(r_subset,'sinu_subset.tif',options=c('COMPRESS=LZW'))\n",
    "#writeRaster(r_subset_wgs84,'wgs84_subset.tif',options=c('COMPRESS=LZW'))"
   ]
  },
  {
   "cell_type": "markdown",
   "metadata": {},
   "source": [
    "This code is to iterate through the dates, 10 dates limit, and built the time series by \"append\". There are two files, one per product, i.e. one for EVI data and another for quality data i.e QCdata"
   ]
  },
  {
   "cell_type": "code",
   "execution_count": 10,
   "metadata": {},
   "outputs": [],
   "source": [
    "# Initialize response data.frames to store the returned EVI and QC data\n",
    "proddata <- data.frame()\n",
    "qcdata <- data.frame()\n",
    "\n",
    "# Iterate through the list of dates and submit subset requests.\n",
    "for (dt in modis_dates){\n",
    "    \n",
    "    # Submit request and append to EVI time series\n",
    "    r <- GET(requestURL(lat, lon, prod, data_band, dt, dt, above_below, left_right))\n",
    "    subset <- fromJSON(toJSON(content(r)))\n",
    "    proddata <- rbind(proddata, subset$subset)\n",
    "    \n",
    "    # Submit request and append to QC time series\n",
    "    r <- GET(requestURL(lat, lon, prod, qc_band, dt, dt, above_below, left_right))\n",
    "    qcsubset <- fromJSON(toJSON(content(r)))\n",
    "    qcdata <- rbind(qcdata, qcsubset$subset)\n",
    "\n",
    "}"
   ]
  },
  {
   "cell_type": "markdown",
   "metadata": {},
   "source": [
    "Now we use ggplot, to plot the time series"
   ]
  },
  {
   "cell_type": "code",
   "execution_count": 11,
   "metadata": {},
   "outputs": [
    {
     "data": {},
     "metadata": {},
     "output_type": "display_data"
    },
    {
     "data": {
      "image/png": "[encoded data removed]",
      "text/plain": [
       "plot without title"
      ]
     },
     "metadata": {},
     "output_type": "display_data"
    }
   ],
   "source": [
    "# Make subset data \"CSV-like\":\n",
    "prodvalues <- t(as.data.frame(proddata$data, col.names=proddata$calendar_date, check.names=FALSE))\n",
    "prodvalues <- prodvalues*as.numeric(scale) # Apply scale factor\n",
    "\n",
    "prodstats <- data.frame( # prodstats data frame is passed to ggplot\n",
    "    date = as.Date(unlist(calendar_dates)), # get formatted dates from calendar_dates list (strings)\n",
    "    mean = rowMeans(prodvalues, na.rm=TRUE), # get mean of each row (timestep)\n",
    "    sd = apply(prodvalues, 1, sd, na.rm = TRUE) # and standard deviation \n",
    ")\n",
    "\n",
    "plot <- ggplot(prodstats) +\n",
    "\n",
    "    # Plot mean (geom_line) and standard deviation (geom_ribbon)\n",
    "    geom_ribbon(aes(ymin=prodstats$mean - prodstats$sd, ymax=prodstats$mean + prodstats$sd , x=date), fill = 'darkgray', alpha = 0.5) + # draw the shaded area for 68% CI\n",
    "    geom_line(aes(y=mean, x=date), colour = '#2D708EFF') + # draw the line for the mean value \n",
    "\n",
    "    # Label and make the plot pretty:\n",
    "    labs(title = 'VNP13A1 Enhanced Vegetation Index 2', subtitle = 'Subset Mean and 68% CI') +\n",
    "    ylab('EVI') + # add a y-axis label\n",
    "    xlab(\"Date\") + # add a x-axis label\n",
    "    theme_bw() + # set the plot theme\n",
    "    theme(plot.title = element_text(lineheight=.8, face=\"bold\", size=16), \n",
    "        axis.title.x = element_text(face=\"bold\", size=14), \n",
    "        axis.title.y = element_text(face=\"bold\", size=14), \n",
    "        axis.text.x = element_text(size=12), \n",
    "        axis.text.y = element_text(size=12)) # set optional theme elements\n",
    "\n",
    "options(repr.plot.width = 10, repr.plot.height = 3)\n",
    "plot"
   ]
  },
  {
   "cell_type": "markdown",
   "metadata": {},
   "source": [
    "Note that the first date corresponds to the first VIIRS date available to the most recent processed date.  Now list both the EVI and the QC"
   ]
  },
  {
   "cell_type": "code",
   "execution_count": 12,
   "metadata": {},
   "outputs": [
    {
     "name": "stdout",
     "output_type": "stream",
     "text": [
      "[1] These are the unique QC values: 2061, 2065, 2116, 2120, 2124, 2185, 2189, 2257, 2261, 2325, 2445, 2517, 2521, 3358, 3362, 3366, 3418, 18713, 34893, 34961, 34965, 35033, 35037, 35097, 35101, 35105, 35157, 35221, 35225, 35293, 35297, 51229, 51485, 51489, 51493\n"
     ]
    },
    {
     "data": {
      "text/html": [
       "<table>\n",
       "<tbody>\n",
       "\t<tr><th scope=row>2012-01-17</th><td>1920</td><td>2032</td><td>2042</td><td>1744</td><td>1887</td><td>1588</td><td>1588</td><td>1932</td><td>2154</td><td>2048</td><td>... </td><td>1905</td><td>1958</td><td>1958</td><td>2643</td><td>1569</td><td>1128</td><td>1851</td><td>2955</td><td>3292</td><td>2222</td></tr>\n",
       "\t<tr><th scope=row>2012-01-25</th><td>2389</td><td>2346</td><td>2687</td><td>2071</td><td>2110</td><td>2233</td><td>2020</td><td>2116</td><td>2080</td><td>2256</td><td>... </td><td>2856</td><td>2151</td><td>2434</td><td>2643</td><td>1569</td><td>1755</td><td>1851</td><td>2955</td><td>3292</td><td>2222</td></tr>\n",
       "\t<tr><th scope=row>2012-02-02</th><td>2389</td><td>2346</td><td>2693</td><td>2071</td><td>2110</td><td>2233</td><td>2190</td><td>2352</td><td>2352</td><td>2256</td><td>... </td><td>2856</td><td>2151</td><td>2434</td><td>2734</td><td>2955</td><td>1755</td><td>1944</td><td>2870</td><td>3422</td><td>2685</td></tr>\n",
       "\t<tr><th scope=row>2012-02-10</th><td>2337</td><td>2567</td><td>2693</td><td>2293</td><td>2323</td><td>2009</td><td>2190</td><td>2352</td><td>2352</td><td>2609</td><td>... </td><td>2811</td><td>1617</td><td>2655</td><td>2646</td><td>1571</td><td> 619</td><td>2369</td><td>3265</td><td>3023</td><td>2521</td></tr>\n",
       "\t<tr><th scope=row>2012-02-18</th><td>2280</td><td>2506</td><td>2684</td><td>2293</td><td>2223</td><td>1791</td><td>1644</td><td>1903</td><td>2444</td><td>2509</td><td>... </td><td>2811</td><td>2491</td><td>2785</td><td>2646</td><td>1571</td><td> 619</td><td>2627</td><td>3034</td><td>3023</td><td>2521</td></tr>\n",
       "</tbody>\n",
       "</table>\n"
      ],
      "text/latex": [
       "\\begin{tabular}{r|lllllllllllllllllllllllllllllllllllllllllllllllllllllllllllllllllllllllllllllllll}\n",
       "\t2012-01-17 & 1920 & 2032 & 2042 & 1744 & 1887 & 1588 & 1588 & 1932 & 2154 & 2048 & ...  & 1905 & 1958 & 1958 & 2643 & 1569 & 1128 & 1851 & 2955 & 3292 & 2222\\\\\n",
       "\t2012-01-25 & 2389 & 2346 & 2687 & 2071 & 2110 & 2233 & 2020 & 2116 & 2080 & 2256 & ...  & 2856 & 2151 & 2434 & 2643 & 1569 & 1755 & 1851 & 2955 & 3292 & 2222\\\\\n",
       "\t2012-02-02 & 2389 & 2346 & 2693 & 2071 & 2110 & 2233 & 2190 & 2352 & 2352 & 2256 & ...  & 2856 & 2151 & 2434 & 2734 & 2955 & 1755 & 1944 & 2870 & 3422 & 2685\\\\\n",
       "\t2012-02-10 & 2337 & 2567 & 2693 & 2293 & 2323 & 2009 & 2190 & 2352 & 2352 & 2609 & ...  & 2811 & 1617 & 2655 & 2646 & 1571 &  619 & 2369 & 3265 & 3023 & 2521\\\\\n",
       "\t2012-02-18 & 2280 & 2506 & 2684 & 2293 & 2223 & 1791 & 1644 & 1903 & 2444 & 2509 & ...  & 2811 & 2491 & 2785 & 2646 & 1571 &  619 & 2627 & 3034 & 3023 & 2521\\\\\n",
       "\\end{tabular}\n"
      ],
      "text/markdown": [
       "\n",
       "| 2012-01-17 | 1920 | 2032 | 2042 | 1744 | 1887 | 1588 | 1588 | 1932 | 2154 | 2048 | ...  | 1905 | 1958 | 1958 | 2643 | 1569 | 1128 | 1851 | 2955 | 3292 | 2222 | \n",
       "| 2012-01-25 | 2389 | 2346 | 2687 | 2071 | 2110 | 2233 | 2020 | 2116 | 2080 | 2256 | ...  | 2856 | 2151 | 2434 | 2643 | 1569 | 1755 | 1851 | 2955 | 3292 | 2222 | \n",
       "| 2012-02-02 | 2389 | 2346 | 2693 | 2071 | 2110 | 2233 | 2190 | 2352 | 2352 | 2256 | ...  | 2856 | 2151 | 2434 | 2734 | 2955 | 1755 | 1944 | 2870 | 3422 | 2685 | \n",
       "| 2012-02-10 | 2337 | 2567 | 2693 | 2293 | 2323 | 2009 | 2190 | 2352 | 2352 | 2609 | ...  | 2811 | 1617 | 2655 | 2646 | 1571 |  619 | 2369 | 3265 | 3023 | 2521 | \n",
       "| 2012-02-18 | 2280 | 2506 | 2684 | 2293 | 2223 | 1791 | 1644 | 1903 | 2444 | 2509 | ...  | 2811 | 2491 | 2785 | 2646 | 1571 |  619 | 2627 | 3034 | 3023 | 2521 | \n",
       "\n",
       "\n"
      ],
      "text/plain": [
       "           [,1] [,2] [,3] [,4] [,5] [,6] [,7] [,8] [,9] [,10] [,11] [,12] [,13]\n",
       "2012-01-17 1920 2032 2042 1744 1887 1588 1588 1932 2154 2048  ...   1905  1958 \n",
       "2012-01-25 2389 2346 2687 2071 2110 2233 2020 2116 2080 2256  ...   2856  2151 \n",
       "2012-02-02 2389 2346 2693 2071 2110 2233 2190 2352 2352 2256  ...   2856  2151 \n",
       "2012-02-10 2337 2567 2693 2293 2323 2009 2190 2352 2352 2609  ...   2811  1617 \n",
       "2012-02-18 2280 2506 2684 2293 2223 1791 1644 1903 2444 2509  ...   2811  2491 \n",
       "           [,14] [,15] [,16] [,17] [,18] [,19] [,20] [,21]\n",
       "2012-01-17 1958  2643  1569  1128  1851  2955  3292  2222 \n",
       "2012-01-25 2434  2643  1569  1755  1851  2955  3292  2222 \n",
       "2012-02-02 2434  2734  2955  1755  1944  2870  3422  2685 \n",
       "2012-02-10 2655  2646  1571   619  2369  3265  3023  2521 \n",
       "2012-02-18 2785  2646  1571   619  2627  3034  3023  2521 "
      ]
     },
     "metadata": {},
     "output_type": "display_data"
    },
    {
     "data": {
      "text/html": [
       "<table>\n",
       "<tbody>\n",
       "\t<tr><th scope=row>2012-01-17</th><td>2116</td><td>2116</td><td>2116</td><td>2116</td><td>2116</td><td>2116</td><td>2116</td><td>2116</td><td>2120</td><td>2116</td><td>... </td><td>2116</td><td>2116</td><td>2116</td><td>2116</td><td>2116</td><td>2116</td><td>2116</td><td>2116</td><td>2116</td><td>2116</td></tr>\n",
       "\t<tr><th scope=row>2012-01-25</th><td>2116</td><td>2116</td><td>2116</td><td>2116</td><td>2116</td><td>2116</td><td>2116</td><td>2116</td><td>2116</td><td>2116</td><td>... </td><td>2116</td><td>2116</td><td>2116</td><td>2116</td><td>2116</td><td>2116</td><td>2116</td><td>2116</td><td>2116</td><td>2116</td></tr>\n",
       "\t<tr><th scope=row>2012-02-02</th><td>2116</td><td>2116</td><td>2116</td><td>2116</td><td>2116</td><td>2116</td><td>2116</td><td>2116</td><td>2116</td><td>2116</td><td>... </td><td>2116</td><td>2116</td><td>2116</td><td>2116</td><td>2116</td><td>2116</td><td>2116</td><td>2116</td><td>2116</td><td>2116</td></tr>\n",
       "\t<tr><th scope=row>2012-02-10</th><td>2116</td><td>2116</td><td>2116</td><td>2116</td><td>2116</td><td>2116</td><td>2116</td><td>2116</td><td>2116</td><td>2116</td><td>... </td><td>2116</td><td>2120</td><td>2116</td><td>2116</td><td>2116</td><td>2116</td><td>2116</td><td>2116</td><td>2116</td><td>2116</td></tr>\n",
       "\t<tr><th scope=row>2012-02-18</th><td>2116</td><td>2116</td><td>2116</td><td>2116</td><td>2116</td><td>2120</td><td>2120</td><td>2116</td><td>2116</td><td>2116</td><td>... </td><td>2116</td><td>2116</td><td>2116</td><td>2116</td><td>2116</td><td>2116</td><td>2116</td><td>2116</td><td>2116</td><td>2116</td></tr>\n",
       "</tbody>\n",
       "</table>\n"
      ],
      "text/latex": [
       "\\begin{tabular}{r|lllllllllllllllllllllllllllllllllllllllllllllllllllllllllllllllllllllllllllllllll}\n",
       "\t2012-01-17 & 2116 & 2116 & 2116 & 2116 & 2116 & 2116 & 2116 & 2116 & 2120 & 2116 & ...  & 2116 & 2116 & 2116 & 2116 & 2116 & 2116 & 2116 & 2116 & 2116 & 2116\\\\\n",
       "\t2012-01-25 & 2116 & 2116 & 2116 & 2116 & 2116 & 2116 & 2116 & 2116 & 2116 & 2116 & ...  & 2116 & 2116 & 2116 & 2116 & 2116 & 2116 & 2116 & 2116 & 2116 & 2116\\\\\n",
       "\t2012-02-02 & 2116 & 2116 & 2116 & 2116 & 2116 & 2116 & 2116 & 2116 & 2116 & 2116 & ...  & 2116 & 2116 & 2116 & 2116 & 2116 & 2116 & 2116 & 2116 & 2116 & 2116\\\\\n",
       "\t2012-02-10 & 2116 & 2116 & 2116 & 2116 & 2116 & 2116 & 2116 & 2116 & 2116 & 2116 & ...  & 2116 & 2120 & 2116 & 2116 & 2116 & 2116 & 2116 & 2116 & 2116 & 2116\\\\\n",
       "\t2012-02-18 & 2116 & 2116 & 2116 & 2116 & 2116 & 2120 & 2120 & 2116 & 2116 & 2116 & ...  & 2116 & 2116 & 2116 & 2116 & 2116 & 2116 & 2116 & 2116 & 2116 & 2116\\\\\n",
       "\\end{tabular}\n"
      ],
      "text/markdown": [
       "\n",
       "| 2012-01-17 | 2116 | 2116 | 2116 | 2116 | 2116 | 2116 | 2116 | 2116 | 2120 | 2116 | ...  | 2116 | 2116 | 2116 | 2116 | 2116 | 2116 | 2116 | 2116 | 2116 | 2116 | \n",
       "| 2012-01-25 | 2116 | 2116 | 2116 | 2116 | 2116 | 2116 | 2116 | 2116 | 2116 | 2116 | ...  | 2116 | 2116 | 2116 | 2116 | 2116 | 2116 | 2116 | 2116 | 2116 | 2116 | \n",
       "| 2012-02-02 | 2116 | 2116 | 2116 | 2116 | 2116 | 2116 | 2116 | 2116 | 2116 | 2116 | ...  | 2116 | 2116 | 2116 | 2116 | 2116 | 2116 | 2116 | 2116 | 2116 | 2116 | \n",
       "| 2012-02-10 | 2116 | 2116 | 2116 | 2116 | 2116 | 2116 | 2116 | 2116 | 2116 | 2116 | ...  | 2116 | 2120 | 2116 | 2116 | 2116 | 2116 | 2116 | 2116 | 2116 | 2116 | \n",
       "| 2012-02-18 | 2116 | 2116 | 2116 | 2116 | 2116 | 2120 | 2120 | 2116 | 2116 | 2116 | ...  | 2116 | 2116 | 2116 | 2116 | 2116 | 2116 | 2116 | 2116 | 2116 | 2116 | \n",
       "\n",
       "\n"
      ],
      "text/plain": [
       "           [,1] [,2] [,3] [,4] [,5] [,6] [,7] [,8] [,9] [,10] [,11] [,12] [,13]\n",
       "2012-01-17 2116 2116 2116 2116 2116 2116 2116 2116 2120 2116  ...   2116  2116 \n",
       "2012-01-25 2116 2116 2116 2116 2116 2116 2116 2116 2116 2116  ...   2116  2116 \n",
       "2012-02-02 2116 2116 2116 2116 2116 2116 2116 2116 2116 2116  ...   2116  2116 \n",
       "2012-02-10 2116 2116 2116 2116 2116 2116 2116 2116 2116 2116  ...   2116  2120 \n",
       "2012-02-18 2116 2116 2116 2116 2116 2120 2120 2116 2116 2116  ...   2116  2116 \n",
       "           [,14] [,15] [,16] [,17] [,18] [,19] [,20] [,21]\n",
       "2012-01-17 2116  2116  2116  2116  2116  2116  2116  2116 \n",
       "2012-01-25 2116  2116  2116  2116  2116  2116  2116  2116 \n",
       "2012-02-02 2116  2116  2116  2116  2116  2116  2116  2116 \n",
       "2012-02-10 2116  2116  2116  2116  2116  2116  2116  2116 \n",
       "2012-02-18 2116  2116  2116  2116  2116  2116  2116  2116 "
      ]
     },
     "metadata": {},
     "output_type": "display_data"
    }
   ],
   "source": [
    "# Create \"CSV-like\" data frames (prodvalues & qcvalues)\n",
    "prodvalues <- t(as.data.frame(proddata$data, col.names=proddata$calendar_date, check.names=FALSE))\n",
    "qcvalues <- t(as.data.frame(qcdata$data, col.names=qcdata$calendar_date, check.names=FALSE))\n",
    "\n",
    "# Get a vector of unique values from the QC layer time series\n",
    "qcvals <- sort(unique(c(qcvalues)))\n",
    "print(paste('These are the unique QC values: ', paste(sort(qcvals), collapse=', '), sep = ''), quote = FALSE)\n",
    "head(prodvalues,5)\n",
    "head(qcvalues,5)"
   ]
  },
  {
   "cell_type": "markdown",
   "metadata": {},
   "source": [
    "qc, good scientists are always concerned by the quality of the data.  Understanding the meaning of the values in the QC layer: we need to understand the meaning of each unique QC value."
   ]
  },
  {
   "cell_type": "markdown",
   "metadata": {},
   "source": [
    "An empty table is created with several columns associated to the unique QC values listed above. One column for the unique layer QC value, 16 columns for the bits, and 9 columns for each QC group."
   ]
  },
  {
   "cell_type": "code",
   "execution_count": 13,
   "metadata": {},
   "outputs": [
    {
     "data": {
      "text/html": [
       "<table>\n",
       "<thead><tr><th scope=col>Integer_Value</th><th scope=col>Bit15</th><th scope=col>Bit14</th><th scope=col>Bit13</th><th scope=col>Bit12</th><th scope=col>Bit11</th><th scope=col>Bit10</th><th scope=col>Bit9</th><th scope=col>Bit8</th><th scope=col>Bit7</th><th scope=col>...</th><th scope=col>Bit0</th><th scope=col>MODLAND_QA</th><th scope=col>VI_usefulness</th><th scope=col>Aerosol_quantity</th><th scope=col>Adjacent_cloud_detected</th><th scope=col>Atmosphere_BRDF_correction_performed</th><th scope=col>Mixed_clouds</th><th scope=col>Land_Water_flag</th><th scope=col>Possible_snow_ice</th><th scope=col>Possible_shadow</th></tr></thead>\n",
       "<tbody>\n",
       "\t<tr><td>2061</td><td>NA  </td><td>NA  </td><td>NA  </td><td>NA  </td><td>NA  </td><td>NA  </td><td>NA  </td><td>NA  </td><td>NA  </td><td>... </td><td>NA  </td><td>NA  </td><td>NA  </td><td>NA  </td><td>NA  </td><td>NA  </td><td>NA  </td><td>NA  </td><td>NA  </td><td>NA  </td></tr>\n",
       "\t<tr><td>2065</td><td>NA  </td><td>NA  </td><td>NA  </td><td>NA  </td><td>NA  </td><td>NA  </td><td>NA  </td><td>NA  </td><td>NA  </td><td>... </td><td>NA  </td><td>NA  </td><td>NA  </td><td>NA  </td><td>NA  </td><td>NA  </td><td>NA  </td><td>NA  </td><td>NA  </td><td>NA  </td></tr>\n",
       "\t<tr><td>2116</td><td>NA  </td><td>NA  </td><td>NA  </td><td>NA  </td><td>NA  </td><td>NA  </td><td>NA  </td><td>NA  </td><td>NA  </td><td>... </td><td>NA  </td><td>NA  </td><td>NA  </td><td>NA  </td><td>NA  </td><td>NA  </td><td>NA  </td><td>NA  </td><td>NA  </td><td>NA  </td></tr>\n",
       "\t<tr><td>2120</td><td>NA  </td><td>NA  </td><td>NA  </td><td>NA  </td><td>NA  </td><td>NA  </td><td>NA  </td><td>NA  </td><td>NA  </td><td>... </td><td>NA  </td><td>NA  </td><td>NA  </td><td>NA  </td><td>NA  </td><td>NA  </td><td>NA  </td><td>NA  </td><td>NA  </td><td>NA  </td></tr>\n",
       "\t<tr><td>2124</td><td>NA  </td><td>NA  </td><td>NA  </td><td>NA  </td><td>NA  </td><td>NA  </td><td>NA  </td><td>NA  </td><td>NA  </td><td>... </td><td>NA  </td><td>NA  </td><td>NA  </td><td>NA  </td><td>NA  </td><td>NA  </td><td>NA  </td><td>NA  </td><td>NA  </td><td>NA  </td></tr>\n",
       "</tbody>\n",
       "</table>\n"
      ],
      "text/latex": [
       "\\begin{tabular}{r|llllllllllllllllllllllllll}\n",
       " Integer\\_Value & Bit15 & Bit14 & Bit13 & Bit12 & Bit11 & Bit10 & Bit9 & Bit8 & Bit7 & ... & Bit0 & MODLAND\\_QA & VI\\_usefulness & Aerosol\\_quantity & Adjacent\\_cloud\\_detected & Atmosphere\\_BRDF\\_correction\\_performed & Mixed\\_clouds & Land\\_Water\\_flag & Possible\\_snow\\_ice & Possible\\_shadow\\\\\n",
       "\\hline\n",
       "\t 2061 & NA   & NA   & NA   & NA   & NA   & NA   & NA   & NA   & NA   & ...  & NA   & NA   & NA   & NA   & NA   & NA   & NA   & NA   & NA   & NA  \\\\\n",
       "\t 2065 & NA   & NA   & NA   & NA   & NA   & NA   & NA   & NA   & NA   & ...  & NA   & NA   & NA   & NA   & NA   & NA   & NA   & NA   & NA   & NA  \\\\\n",
       "\t 2116 & NA   & NA   & NA   & NA   & NA   & NA   & NA   & NA   & NA   & ...  & NA   & NA   & NA   & NA   & NA   & NA   & NA   & NA   & NA   & NA  \\\\\n",
       "\t 2120 & NA   & NA   & NA   & NA   & NA   & NA   & NA   & NA   & NA   & ...  & NA   & NA   & NA   & NA   & NA   & NA   & NA   & NA   & NA   & NA  \\\\\n",
       "\t 2124 & NA   & NA   & NA   & NA   & NA   & NA   & NA   & NA   & NA   & ...  & NA   & NA   & NA   & NA   & NA   & NA   & NA   & NA   & NA   & NA  \\\\\n",
       "\\end{tabular}\n"
      ],
      "text/markdown": [
       "\n",
       "Integer_Value | Bit15 | Bit14 | Bit13 | Bit12 | Bit11 | Bit10 | Bit9 | Bit8 | Bit7 | ... | Bit0 | MODLAND_QA | VI_usefulness | Aerosol_quantity | Adjacent_cloud_detected | Atmosphere_BRDF_correction_performed | Mixed_clouds | Land_Water_flag | Possible_snow_ice | Possible_shadow | \n",
       "|---|---|---|---|---|\n",
       "| 2061 | NA   | NA   | NA   | NA   | NA   | NA   | NA   | NA   | NA   | ...  | NA   | NA   | NA   | NA   | NA   | NA   | NA   | NA   | NA   | NA   | \n",
       "| 2065 | NA   | NA   | NA   | NA   | NA   | NA   | NA   | NA   | NA   | ...  | NA   | NA   | NA   | NA   | NA   | NA   | NA   | NA   | NA   | NA   | \n",
       "| 2116 | NA   | NA   | NA   | NA   | NA   | NA   | NA   | NA   | NA   | ...  | NA   | NA   | NA   | NA   | NA   | NA   | NA   | NA   | NA   | NA   | \n",
       "| 2120 | NA   | NA   | NA   | NA   | NA   | NA   | NA   | NA   | NA   | ...  | NA   | NA   | NA   | NA   | NA   | NA   | NA   | NA   | NA   | NA   | \n",
       "| 2124 | NA   | NA   | NA   | NA   | NA   | NA   | NA   | NA   | NA   | ...  | NA   | NA   | NA   | NA   | NA   | NA   | NA   | NA   | NA   | NA   | \n",
       "\n",
       "\n"
      ],
      "text/plain": [
       "  Integer_Value Bit15 Bit14 Bit13 Bit12 Bit11 Bit10 Bit9 Bit8 Bit7 ... Bit0\n",
       "1 2061          NA    NA    NA    NA    NA    NA    NA   NA   NA   ... NA  \n",
       "2 2065          NA    NA    NA    NA    NA    NA    NA   NA   NA   ... NA  \n",
       "3 2116          NA    NA    NA    NA    NA    NA    NA   NA   NA   ... NA  \n",
       "4 2120          NA    NA    NA    NA    NA    NA    NA   NA   NA   ... NA  \n",
       "5 2124          NA    NA    NA    NA    NA    NA    NA   NA   NA   ... NA  \n",
       "  MODLAND_QA VI_usefulness Aerosol_quantity Adjacent_cloud_detected\n",
       "1 NA         NA            NA               NA                     \n",
       "2 NA         NA            NA               NA                     \n",
       "3 NA         NA            NA               NA                     \n",
       "4 NA         NA            NA               NA                     \n",
       "5 NA         NA            NA               NA                     \n",
       "  Atmosphere_BRDF_correction_performed Mixed_clouds Land_Water_flag\n",
       "1 NA                                   NA           NA             \n",
       "2 NA                                   NA           NA             \n",
       "3 NA                                   NA           NA             \n",
       "4 NA                                   NA           NA             \n",
       "5 NA                                   NA           NA             \n",
       "  Possible_snow_ice Possible_shadow\n",
       "1 NA                NA             \n",
       "2 NA                NA             \n",
       "3 NA                NA             \n",
       "4 NA                NA             \n",
       "5 NA                NA             "
      ]
     },
     "metadata": {},
     "output_type": "display_data"
    }
   ],
   "source": [
    "QC_Data <- data.frame(\n",
    "    \n",
    "    # A column with one row for each unique integer value in the QC layer time series\n",
    "    Integer_Value = qcvals, \n",
    "    \n",
    "    # An empty column for each bit \n",
    "    Bit15 = NA, Bit14 = NA, Bit13 = NA, Bit12 = NA, Bit11 = NA, Bit10 = NA, Bit9 = NA, Bit8 = NA, \n",
    "    Bit7 = NA, Bit6 = NA, Bit5 = NA, Bit4 = NA, Bit3 = NA, Bit2 = NA, Bit1 = NA, Bit0 = NA, \n",
    "    \n",
    "    # An empty column for each QC group (9 groups)\n",
    "    MODLAND_QA = NA, VI_usefulness = NA, Aerosol_quantity = NA, Adjacent_cloud_detected = NA,\n",
    "    Atmosphere_BRDF_correction_performed = NA, Mixed_clouds = NA, Land_Water_flag = NA, \n",
    "    Possible_snow_ice = NA, Possible_shadow = NA\n",
    "\n",
    ")\n",
    "\n",
    "head(QC_Data, 5)"
   ]
  },
  {
   "cell_type": "markdown",
   "metadata": {},
   "source": [
    "Note that each EVI pixel has a corresponding QC value from the list above that came from the ORNL site.  Each value from the QC layer has a meaning that we don't know yet.  \n",
    "Note that if all the bits have zero value, it means that the pixel is perfect for the TS, it correspond to the first line of the 9 groups.  There is a total of 39 possible QC values (flags or quality issues) located in 9 groups.\n",
    "\n",
    "One line from each group is needed to complete a 16bits byte.\n",
    "\n",
    "Loop through each row from the empty table to get the binary representation of each integer value, and populate the empty (NA) table (above) with the 16-bit columns with a 0 or a 1, the next list is populated as (strictly) defined by MODIS/VIIRS team.  Once the table is populated we will see the meaning of each QC value in each of the 9 groups."
   ]
  },
  {
   "cell_type": "code",
   "execution_count": 14,
   "metadata": {},
   "outputs": [
    {
     "data": {
      "text/html": [
       "<table>\n",
       "<thead><tr><th scope=col>Integer_Value</th><th scope=col>Bit15</th><th scope=col>Bit14</th><th scope=col>Bit13</th><th scope=col>Bit12</th><th scope=col>Bit11</th><th scope=col>Bit10</th><th scope=col>Bit9</th><th scope=col>Bit8</th><th scope=col>Bit7</th><th scope=col>...</th><th scope=col>Bit0</th><th scope=col>MODLAND_QA</th><th scope=col>VI_usefulness</th><th scope=col>Aerosol_quantity</th><th scope=col>Adjacent_cloud_detected</th><th scope=col>Atmosphere_BRDF_correction_performed</th><th scope=col>Mixed_clouds</th><th scope=col>Land_Water_flag</th><th scope=col>Possible_snow_ice</th><th scope=col>Possible_shadow</th></tr></thead>\n",
       "<tbody>\n",
       "\t<tr><td>2061                           </td><td>0                              </td><td>0                              </td><td>0                              </td><td>0                              </td><td>1                              </td><td>0                              </td><td>0                              </td><td>0                              </td><td>0                              </td><td>...                            </td><td>1                              </td><td>VI produced, but check other QA</td><td>Quality Lv 4                   </td><td>Climatology                    </td><td>No                             </td><td>No                             </td><td>No                             </td><td>land no desert                 </td><td>No                             </td><td>No                             </td></tr>\n",
       "\t<tr><td>2065                           </td><td>0                              </td><td>0                              </td><td>0                              </td><td>0                              </td><td>1                              </td><td>0                              </td><td>0                              </td><td>0                              </td><td>0                              </td><td>...                            </td><td>1                              </td><td>VI produced, but check other QA</td><td>Quality Lv 5                   </td><td>Climatology                    </td><td>No                             </td><td>No                             </td><td>No                             </td><td>land no desert                 </td><td>No                             </td><td>No                             </td></tr>\n",
       "\t<tr><td>2116                           </td><td>0                              </td><td>0                              </td><td>0                              </td><td>0                              </td><td>1                              </td><td>0                              </td><td>0                              </td><td>0                              </td><td>0                              </td><td>...                            </td><td>0                              </td><td>VI produced, good quality      </td><td>Quality Lv 2                   </td><td>Low                            </td><td>No                             </td><td>No                             </td><td>No                             </td><td>land no desert                 </td><td>No                             </td><td>No                             </td></tr>\n",
       "\t<tr><td>2120                           </td><td>0                              </td><td>0                              </td><td>0                              </td><td>0                              </td><td>1                              </td><td>0                              </td><td>0                              </td><td>0                              </td><td>0                              </td><td>...                            </td><td>0                              </td><td>VI produced, good quality      </td><td>Quality Lv 3                   </td><td>Low                            </td><td>No                             </td><td>No                             </td><td>No                             </td><td>land no desert                 </td><td>No                             </td><td>No                             </td></tr>\n",
       "\t<tr><td>2124                           </td><td>0                              </td><td>0                              </td><td>0                              </td><td>0                              </td><td>1                              </td><td>0                              </td><td>0                              </td><td>0                              </td><td>0                              </td><td>...                            </td><td>0                              </td><td>VI produced, good quality      </td><td>Quality Lv 4                   </td><td>Low                            </td><td>No                             </td><td>No                             </td><td>No                             </td><td>land no desert                 </td><td>No                             </td><td>No                             </td></tr>\n",
       "</tbody>\n",
       "</table>\n"
      ],
      "text/latex": [
       "\\begin{tabular}{r|llllllllllllllllllllllllll}\n",
       " Integer\\_Value & Bit15 & Bit14 & Bit13 & Bit12 & Bit11 & Bit10 & Bit9 & Bit8 & Bit7 & ... & Bit0 & MODLAND\\_QA & VI\\_usefulness & Aerosol\\_quantity & Adjacent\\_cloud\\_detected & Atmosphere\\_BRDF\\_correction\\_performed & Mixed\\_clouds & Land\\_Water\\_flag & Possible\\_snow\\_ice & Possible\\_shadow\\\\\n",
       "\\hline\n",
       "\t 2061                            & 0                               & 0                               & 0                               & 0                               & 1                               & 0                               & 0                               & 0                               & 0                               & ...                             & 1                               & VI produced, but check other QA & Quality Lv 4                    & Climatology                     & No                              & No                              & No                              & land no desert                  & No                              & No                             \\\\\n",
       "\t 2065                            & 0                               & 0                               & 0                               & 0                               & 1                               & 0                               & 0                               & 0                               & 0                               & ...                             & 1                               & VI produced, but check other QA & Quality Lv 5                    & Climatology                     & No                              & No                              & No                              & land no desert                  & No                              & No                             \\\\\n",
       "\t 2116                            & 0                               & 0                               & 0                               & 0                               & 1                               & 0                               & 0                               & 0                               & 0                               & ...                             & 0                               & VI produced, good quality       & Quality Lv 2                    & Low                             & No                              & No                              & No                              & land no desert                  & No                              & No                             \\\\\n",
       "\t 2120                            & 0                               & 0                               & 0                               & 0                               & 1                               & 0                               & 0                               & 0                               & 0                               & ...                             & 0                               & VI produced, good quality       & Quality Lv 3                    & Low                             & No                              & No                              & No                              & land no desert                  & No                              & No                             \\\\\n",
       "\t 2124                            & 0                               & 0                               & 0                               & 0                               & 1                               & 0                               & 0                               & 0                               & 0                               & ...                             & 0                               & VI produced, good quality       & Quality Lv 4                    & Low                             & No                              & No                              & No                              & land no desert                  & No                              & No                             \\\\\n",
       "\\end{tabular}\n"
      ],
      "text/markdown": [
       "\n",
       "Integer_Value | Bit15 | Bit14 | Bit13 | Bit12 | Bit11 | Bit10 | Bit9 | Bit8 | Bit7 | ... | Bit0 | MODLAND_QA | VI_usefulness | Aerosol_quantity | Adjacent_cloud_detected | Atmosphere_BRDF_correction_performed | Mixed_clouds | Land_Water_flag | Possible_snow_ice | Possible_shadow | \n",
       "|---|---|---|---|---|\n",
       "| 2061                            | 0                               | 0                               | 0                               | 0                               | 1                               | 0                               | 0                               | 0                               | 0                               | ...                             | 1                               | VI produced, but check other QA | Quality Lv 4                    | Climatology                     | No                              | No                              | No                              | land no desert                  | No                              | No                              | \n",
       "| 2065                            | 0                               | 0                               | 0                               | 0                               | 1                               | 0                               | 0                               | 0                               | 0                               | ...                             | 1                               | VI produced, but check other QA | Quality Lv 5                    | Climatology                     | No                              | No                              | No                              | land no desert                  | No                              | No                              | \n",
       "| 2116                            | 0                               | 0                               | 0                               | 0                               | 1                               | 0                               | 0                               | 0                               | 0                               | ...                             | 0                               | VI produced, good quality       | Quality Lv 2                    | Low                             | No                              | No                              | No                              | land no desert                  | No                              | No                              | \n",
       "| 2120                            | 0                               | 0                               | 0                               | 0                               | 1                               | 0                               | 0                               | 0                               | 0                               | ...                             | 0                               | VI produced, good quality       | Quality Lv 3                    | Low                             | No                              | No                              | No                              | land no desert                  | No                              | No                              | \n",
       "| 2124                            | 0                               | 0                               | 0                               | 0                               | 1                               | 0                               | 0                               | 0                               | 0                               | ...                             | 0                               | VI produced, good quality       | Quality Lv 4                    | Low                             | No                              | No                              | No                              | land no desert                  | No                              | No                              | \n",
       "\n",
       "\n"
      ],
      "text/plain": [
       "  Integer_Value Bit15 Bit14 Bit13 Bit12 Bit11 Bit10 Bit9 Bit8 Bit7 ... Bit0\n",
       "1 2061          0     0     0     0     1     0     0    0    0    ... 1   \n",
       "2 2065          0     0     0     0     1     0     0    0    0    ... 1   \n",
       "3 2116          0     0     0     0     1     0     0    0    0    ... 0   \n",
       "4 2120          0     0     0     0     1     0     0    0    0    ... 0   \n",
       "5 2124          0     0     0     0     1     0     0    0    0    ... 0   \n",
       "  MODLAND_QA                      VI_usefulness Aerosol_quantity\n",
       "1 VI produced, but check other QA Quality Lv 4  Climatology     \n",
       "2 VI produced, but check other QA Quality Lv 5  Climatology     \n",
       "3 VI produced, good quality       Quality Lv 2  Low             \n",
       "4 VI produced, good quality       Quality Lv 3  Low             \n",
       "5 VI produced, good quality       Quality Lv 4  Low             \n",
       "  Adjacent_cloud_detected Atmosphere_BRDF_correction_performed Mixed_clouds\n",
       "1 No                      No                                   No          \n",
       "2 No                      No                                   No          \n",
       "3 No                      No                                   No          \n",
       "4 No                      No                                   No          \n",
       "5 No                      No                                   No          \n",
       "  Land_Water_flag Possible_snow_ice Possible_shadow\n",
       "1 land no desert  No                No             \n",
       "2 land no desert  No                No             \n",
       "3 land no desert  No                No             \n",
       "4 land no desert  No                No             \n",
       "5 land no desert  No                No             "
      ]
     },
     "metadata": {},
     "output_type": "display_data"
    }
   ],
   "source": [
    "# Loop through each QC integer and populate the QC bit columns with 0s and 1s\n",
    "for(i in seq(1,length(QC_Data$Integer_Value),1)){\n",
    "    AsInt <- as.integer(intToBits(QC_Data[i,])[1:16])\n",
    "    QC_Data[i,2:17] <- AsInt[16:1] # Flip to big endian\n",
    "}\n",
    "\n",
    "# Describe the QC bits based on the criteria outlined in the MODIS product table\n",
    "QC_Data$MODLAND_QA[QC_Data$Bit1 == 0 & QC_Data$Bit0 == 0] <- 'VI produced, good quality'\n",
    "QC_Data$MODLAND_QA[QC_Data$Bit1 == 0 & QC_Data$Bit0 == 1] <- 'VI produced, but check other QA'\n",
    "QC_Data$MODLAND_QA[QC_Data$Bit1 == 1 & QC_Data$Bit0 == 0] <- 'Pixel produced, but most probably cloudy'\n",
    "QC_Data$MODLAND_QA[QC_Data$Bit1 == 1 & QC_Data$Bit0 == 1] <- 'Pixel not produced due to other reasons than clouds'\n",
    "\n",
    "QC_Data$VI_usefulness[QC_Data$Bit5==0 & QC_Data$Bit4==0 & QC_Data$Bit3==0 & QC_Data$Bit2==0] <- 'Quality Lv 1'\n",
    "QC_Data$VI_usefulness[QC_Data$Bit5==0 & QC_Data$Bit4==0 & QC_Data$Bit3==0 & QC_Data$Bit2==1] <- 'Quality Lv 2'\n",
    "QC_Data$VI_usefulness[QC_Data$Bit5==0 & QC_Data$Bit4==0 & QC_Data$Bit3==1 & QC_Data$Bit2==0] <- 'Quality Lv 3'\n",
    "QC_Data$VI_usefulness[QC_Data$Bit5==0 & QC_Data$Bit4==0 & QC_Data$Bit3==1 & QC_Data$Bit2==1] <- 'Quality Lv 4'\n",
    "QC_Data$VI_usefulness[QC_Data$Bit5==0 & QC_Data$Bit4==1 & QC_Data$Bit3==0 & QC_Data$Bit2==0] <- 'Quality Lv 5'\n",
    "QC_Data$VI_usefulness[QC_Data$Bit5==0 & QC_Data$Bit4==1 & QC_Data$Bit3==0 & QC_Data$Bit2==1] <- 'Quality Lv 6'\n",
    "QC_Data$VI_usefulness[QC_Data$Bit5==0 & QC_Data$Bit4==1 & QC_Data$Bit3==1 & QC_Data$Bit2==0] <- 'Quality Lv 7'\n",
    "QC_Data$VI_usefulness[QC_Data$Bit5==0 & QC_Data$Bit4==1 & QC_Data$Bit3==1 & QC_Data$Bit2==1] <- 'Quality Lv 8'\n",
    "QC_Data$VI_usefulness[QC_Data$Bit5==1 & QC_Data$Bit4==0 & QC_Data$Bit3==0 & QC_Data$Bit2==0] <- 'Quality Lv 9'\n",
    "QC_Data$VI_usefulness[QC_Data$Bit5==1 & QC_Data$Bit4==0 & QC_Data$Bit3==0 & QC_Data$Bit2==1] <- 'Quality Lv 10'\n",
    "QC_Data$VI_usefulness[QC_Data$Bit5==1 & QC_Data$Bit4==0 & QC_Data$Bit3==1 & QC_Data$Bit2==0] <- 'Quality Lv 11'\n",
    "QC_Data$VI_usefulness[QC_Data$Bit5==1 & QC_Data$Bit4==0 & QC_Data$Bit3==1 & QC_Data$Bit2==1] <- 'Quality Lv 12'\n",
    "QC_Data$VI_usefulness[QC_Data$Bit5==1 & QC_Data$Bit4==1 & QC_Data$Bit3==0 & QC_Data$Bit2==0] <- 'Quality Lv 13'\n",
    "QC_Data$VI_usefulness[QC_Data$Bit5==1 & QC_Data$Bit4==1 & QC_Data$Bit3==0 & QC_Data$Bit2==1] <- 'Quality so low that it is not useful'\n",
    "QC_Data$VI_usefulness[QC_Data$Bit5==1 & QC_Data$Bit4==1 & QC_Data$Bit3==1 & QC_Data$Bit2==0] <- 'L1B data faulty'\n",
    "QC_Data$VI_usefulness[QC_Data$Bit5==1 & QC_Data$Bit4==1 & QC_Data$Bit3==1 & QC_Data$Bit2==1] <- 'Not useful for any other reason/not processed'\n",
    "\n",
    "QC_Data$Aerosol_quantity[QC_Data$Bit7 == 0 & QC_Data$Bit6==0] <- 'Climatology'\n",
    "QC_Data$Aerosol_quantity[QC_Data$Bit7 == 0 & QC_Data$Bit6==1] <- 'Low'\n",
    "QC_Data$Aerosol_quantity[QC_Data$Bit7 == 1 & QC_Data$Bit6==0] <- 'Average'\n",
    "QC_Data$Aerosol_quantity[QC_Data$Bit7 == 1 & QC_Data$Bit6==1] <- 'High'\n",
    "\n",
    "QC_Data$Adjacent_cloud_detected[QC_Data$Bit8 == 0] <- 'No'\n",
    "QC_Data$Adjacent_cloud_detected[QC_Data$Bit8 == 1] <- 'Yes'\n",
    "\n",
    "QC_Data$Atmosphere_BRDF_correction_performed[QC_Data$Bit9 == 0] <- 'No'\n",
    "QC_Data$Atmosphere_BRDF_correction_performed[QC_Data$Bit9 == 1] <- 'Yes'\n",
    "\n",
    "QC_Data$Mixed_clouds[QC_Data$Bit10 == 0] <- 'No'\n",
    "QC_Data$Mixed_clouds[QC_Data$Bit10 == 1] <- 'Yes'\n",
    "\n",
    "QC_Data$Land_Water_flag[QC_Data$Bit13 == 0 & QC_Data$Bit12 == 0 & QC_Data$Bit11 == 0] <- 'Land and desert'\n",
    "QC_Data$Land_Water_flag[QC_Data$Bit13 == 0 & QC_Data$Bit12 == 0 & QC_Data$Bit11 == 1] <- 'land no desert'\n",
    "QC_Data$Land_Water_flag[QC_Data$Bit13 == 0 & QC_Data$Bit12 == 1 & QC_Data$Bit11 == 0] <- 'inland water'\n",
    "QC_Data$Land_Water_flag[QC_Data$Bit13 == 0 & QC_Data$Bit12 == 1 & QC_Data$Bit11 == 1] <- 'sea water'\n",
    "QC_Data$Land_Water_flag[QC_Data$Bit13 == 1 & QC_Data$Bit12 == 0 & QC_Data$Bit11 == 1] <- 'coastal'\n",
    "\n",
    "QC_Data$Possible_snow_ice[QC_Data$Bit14 == 0] <- 'No'\n",
    "QC_Data$Possible_snow_ice[QC_Data$Bit14 == 1] <- 'Yes'\n",
    "\n",
    "QC_Data$Possible_shadow[QC_Data$Bit15 == 0] <- 'No'\n",
    "QC_Data$Possible_shadow[QC_Data$Bit15 == 1] <- 'Yes'\n",
    "\n",
    "head(QC_Data,5)"
   ]
  },
  {
   "cell_type": "markdown",
   "metadata": {},
   "source": [
    "Now that the table has been populated, you can identify the combination of bits (groups) you might not want to include in your TS. Values that do not meet quality standards or quality criteria (invalid values).\n",
    "\n",
    "The goal is to remove rows from the table that pass our quality criteria so we can use the remaining rows to mask our TS.  We need to define the flags not passing quality to build a mask!\n",
    "\n",
    "The following filter contains the flags to exclude from the TS. It has 5 groups from the 9 groups available. Note that some QC have no \"adjacent_cloud_detected\" but they do not pass the VI_uselfulness, so are included in the final table, that will be used as a mask to identify and remove \"invalid\" values from the TS."
   ]
  },
  {
   "cell_type": "code",
   "execution_count": 15,
   "metadata": {},
   "outputs": [
    {
     "data": {
      "text/html": [
       "<table>\n",
       "<thead><tr><th scope=col>Integer_Value</th><th scope=col>Bit15</th><th scope=col>Bit14</th><th scope=col>Bit13</th><th scope=col>Bit12</th><th scope=col>Bit11</th><th scope=col>Bit10</th><th scope=col>Bit9</th><th scope=col>Bit8</th><th scope=col>Bit7</th><th scope=col>...</th><th scope=col>Bit0</th><th scope=col>MODLAND_QA</th><th scope=col>VI_usefulness</th><th scope=col>Aerosol_quantity</th><th scope=col>Adjacent_cloud_detected</th><th scope=col>Atmosphere_BRDF_correction_performed</th><th scope=col>Mixed_clouds</th><th scope=col>Land_Water_flag</th><th scope=col>Possible_snow_ice</th><th scope=col>Possible_shadow</th></tr></thead>\n",
       "<tbody>\n",
       "\t<tr><td>2061                           </td><td>0                              </td><td>0                              </td><td>0                              </td><td>0                              </td><td>1                              </td><td>0                              </td><td>0                              </td><td>0                              </td><td>0                              </td><td>...                            </td><td>1                              </td><td>VI produced, but check other QA</td><td>Quality Lv 4                   </td><td>Climatology                    </td><td>No                             </td><td>No                             </td><td>No                             </td><td>land no desert                 </td><td>No                             </td><td>No                             </td></tr>\n",
       "\t<tr><td>2065                           </td><td>0                              </td><td>0                              </td><td>0                              </td><td>0                              </td><td>1                              </td><td>0                              </td><td>0                              </td><td>0                              </td><td>0                              </td><td>...                            </td><td>1                              </td><td>VI produced, but check other QA</td><td>Quality Lv 5                   </td><td>Climatology                    </td><td>No                             </td><td>No                             </td><td>No                             </td><td>land no desert                 </td><td>No                             </td><td>No                             </td></tr>\n",
       "\t<tr><td>2124                           </td><td>0                              </td><td>0                              </td><td>0                              </td><td>0                              </td><td>1                              </td><td>0                              </td><td>0                              </td><td>0                              </td><td>0                              </td><td>...                            </td><td>0                              </td><td>VI produced, good quality      </td><td>Quality Lv 4                   </td><td>Low                            </td><td>No                             </td><td>No                             </td><td>No                             </td><td>land no desert                 </td><td>No                             </td><td>No                             </td></tr>\n",
       "\t<tr><td>2189                           </td><td>0                              </td><td>0                              </td><td>0                              </td><td>0                              </td><td>1                              </td><td>0                              </td><td>0                              </td><td>0                              </td><td>1                              </td><td>...                            </td><td>1                              </td><td>VI produced, but check other QA</td><td>Quality Lv 4                   </td><td>Average                        </td><td>No                             </td><td>No                             </td><td>No                             </td><td>land no desert                 </td><td>No                             </td><td>No                             </td></tr>\n",
       "\t<tr><td>2257                           </td><td>0                              </td><td>0                              </td><td>0                              </td><td>0                              </td><td>1                              </td><td>0                              </td><td>0                              </td><td>0                              </td><td>1                              </td><td>...                            </td><td>1                              </td><td>VI produced, but check other QA</td><td>Quality Lv 5                   </td><td>High                           </td><td>No                             </td><td>No                             </td><td>No                             </td><td>land no desert                 </td><td>No                             </td><td>No                             </td></tr>\n",
       "\t<tr><td>2261                           </td><td>0                              </td><td>0                              </td><td>0                              </td><td>0                              </td><td>1                              </td><td>0                              </td><td>0                              </td><td>0                              </td><td>1                              </td><td>...                            </td><td>1                              </td><td>VI produced, but check other QA</td><td>Quality Lv 6                   </td><td>High                           </td><td>No                             </td><td>No                             </td><td>No                             </td><td>land no desert                 </td><td>No                             </td><td>No                             </td></tr>\n",
       "\t<tr><td>2325                           </td><td>0                              </td><td>0                              </td><td>0                              </td><td>0                              </td><td>1                              </td><td>0                              </td><td>0                              </td><td>1                              </td><td>0                              </td><td>...                            </td><td>1                              </td><td>VI produced, but check other QA</td><td>Quality Lv 6                   </td><td>Climatology                    </td><td>Yes                            </td><td>No                             </td><td>No                             </td><td>land no desert                 </td><td>No                             </td><td>No                             </td></tr>\n",
       "\t<tr><td>2445                           </td><td>0                              </td><td>0                              </td><td>0                              </td><td>0                              </td><td>1                              </td><td>0                              </td><td>0                              </td><td>1                              </td><td>1                              </td><td>...                            </td><td>1                              </td><td>VI produced, but check other QA</td><td>Quality Lv 4                   </td><td>Average                        </td><td>Yes                            </td><td>No                             </td><td>No                             </td><td>land no desert                 </td><td>No                             </td><td>No                             </td></tr>\n",
       "\t<tr><td>2517                           </td><td>0                              </td><td>0                              </td><td>0                              </td><td>0                              </td><td>1                              </td><td>0                              </td><td>0                              </td><td>1                              </td><td>1                              </td><td>...                            </td><td>1                              </td><td>VI produced, but check other QA</td><td>Quality Lv 6                   </td><td>High                           </td><td>Yes                            </td><td>No                             </td><td>No                             </td><td>land no desert                 </td><td>No                             </td><td>No                             </td></tr>\n",
       "\t<tr><td>2521                           </td><td>0                              </td><td>0                              </td><td>0                              </td><td>0                              </td><td>1                              </td><td>0                              </td><td>0                              </td><td>1                              </td><td>1                              </td><td>...                            </td><td>1                              </td><td>VI produced, but check other QA</td><td>Quality Lv 7                   </td><td>High                           </td><td>Yes                            </td><td>No                             </td><td>No                             </td><td>land no desert                 </td><td>No                             </td><td>No                             </td></tr>\n",
       "</tbody>\n",
       "</table>\n"
      ],
      "text/latex": [
       "\\begin{tabular}{r|llllllllllllllllllllllllll}\n",
       " Integer\\_Value & Bit15 & Bit14 & Bit13 & Bit12 & Bit11 & Bit10 & Bit9 & Bit8 & Bit7 & ... & Bit0 & MODLAND\\_QA & VI\\_usefulness & Aerosol\\_quantity & Adjacent\\_cloud\\_detected & Atmosphere\\_BRDF\\_correction\\_performed & Mixed\\_clouds & Land\\_Water\\_flag & Possible\\_snow\\_ice & Possible\\_shadow\\\\\n",
       "\\hline\n",
       "\t 2061                            & 0                               & 0                               & 0                               & 0                               & 1                               & 0                               & 0                               & 0                               & 0                               & ...                             & 1                               & VI produced, but check other QA & Quality Lv 4                    & Climatology                     & No                              & No                              & No                              & land no desert                  & No                              & No                             \\\\\n",
       "\t 2065                            & 0                               & 0                               & 0                               & 0                               & 1                               & 0                               & 0                               & 0                               & 0                               & ...                             & 1                               & VI produced, but check other QA & Quality Lv 5                    & Climatology                     & No                              & No                              & No                              & land no desert                  & No                              & No                             \\\\\n",
       "\t 2124                            & 0                               & 0                               & 0                               & 0                               & 1                               & 0                               & 0                               & 0                               & 0                               & ...                             & 0                               & VI produced, good quality       & Quality Lv 4                    & Low                             & No                              & No                              & No                              & land no desert                  & No                              & No                             \\\\\n",
       "\t 2189                            & 0                               & 0                               & 0                               & 0                               & 1                               & 0                               & 0                               & 0                               & 1                               & ...                             & 1                               & VI produced, but check other QA & Quality Lv 4                    & Average                         & No                              & No                              & No                              & land no desert                  & No                              & No                             \\\\\n",
       "\t 2257                            & 0                               & 0                               & 0                               & 0                               & 1                               & 0                               & 0                               & 0                               & 1                               & ...                             & 1                               & VI produced, but check other QA & Quality Lv 5                    & High                            & No                              & No                              & No                              & land no desert                  & No                              & No                             \\\\\n",
       "\t 2261                            & 0                               & 0                               & 0                               & 0                               & 1                               & 0                               & 0                               & 0                               & 1                               & ...                             & 1                               & VI produced, but check other QA & Quality Lv 6                    & High                            & No                              & No                              & No                              & land no desert                  & No                              & No                             \\\\\n",
       "\t 2325                            & 0                               & 0                               & 0                               & 0                               & 1                               & 0                               & 0                               & 1                               & 0                               & ...                             & 1                               & VI produced, but check other QA & Quality Lv 6                    & Climatology                     & Yes                             & No                              & No                              & land no desert                  & No                              & No                             \\\\\n",
       "\t 2445                            & 0                               & 0                               & 0                               & 0                               & 1                               & 0                               & 0                               & 1                               & 1                               & ...                             & 1                               & VI produced, but check other QA & Quality Lv 4                    & Average                         & Yes                             & No                              & No                              & land no desert                  & No                              & No                             \\\\\n",
       "\t 2517                            & 0                               & 0                               & 0                               & 0                               & 1                               & 0                               & 0                               & 1                               & 1                               & ...                             & 1                               & VI produced, but check other QA & Quality Lv 6                    & High                            & Yes                             & No                              & No                              & land no desert                  & No                              & No                             \\\\\n",
       "\t 2521                            & 0                               & 0                               & 0                               & 0                               & 1                               & 0                               & 0                               & 1                               & 1                               & ...                             & 1                               & VI produced, but check other QA & Quality Lv 7                    & High                            & Yes                             & No                              & No                              & land no desert                  & No                              & No                             \\\\\n",
       "\\end{tabular}\n"
      ],
      "text/markdown": [
       "\n",
       "Integer_Value | Bit15 | Bit14 | Bit13 | Bit12 | Bit11 | Bit10 | Bit9 | Bit8 | Bit7 | ... | Bit0 | MODLAND_QA | VI_usefulness | Aerosol_quantity | Adjacent_cloud_detected | Atmosphere_BRDF_correction_performed | Mixed_clouds | Land_Water_flag | Possible_snow_ice | Possible_shadow | \n",
       "|---|---|---|---|---|---|---|---|---|---|\n",
       "| 2061                            | 0                               | 0                               | 0                               | 0                               | 1                               | 0                               | 0                               | 0                               | 0                               | ...                             | 1                               | VI produced, but check other QA | Quality Lv 4                    | Climatology                     | No                              | No                              | No                              | land no desert                  | No                              | No                              | \n",
       "| 2065                            | 0                               | 0                               | 0                               | 0                               | 1                               | 0                               | 0                               | 0                               | 0                               | ...                             | 1                               | VI produced, but check other QA | Quality Lv 5                    | Climatology                     | No                              | No                              | No                              | land no desert                  | No                              | No                              | \n",
       "| 2124                            | 0                               | 0                               | 0                               | 0                               | 1                               | 0                               | 0                               | 0                               | 0                               | ...                             | 0                               | VI produced, good quality       | Quality Lv 4                    | Low                             | No                              | No                              | No                              | land no desert                  | No                              | No                              | \n",
       "| 2189                            | 0                               | 0                               | 0                               | 0                               | 1                               | 0                               | 0                               | 0                               | 1                               | ...                             | 1                               | VI produced, but check other QA | Quality Lv 4                    | Average                         | No                              | No                              | No                              | land no desert                  | No                              | No                              | \n",
       "| 2257                            | 0                               | 0                               | 0                               | 0                               | 1                               | 0                               | 0                               | 0                               | 1                               | ...                             | 1                               | VI produced, but check other QA | Quality Lv 5                    | High                            | No                              | No                              | No                              | land no desert                  | No                              | No                              | \n",
       "| 2261                            | 0                               | 0                               | 0                               | 0                               | 1                               | 0                               | 0                               | 0                               | 1                               | ...                             | 1                               | VI produced, but check other QA | Quality Lv 6                    | High                            | No                              | No                              | No                              | land no desert                  | No                              | No                              | \n",
       "| 2325                            | 0                               | 0                               | 0                               | 0                               | 1                               | 0                               | 0                               | 1                               | 0                               | ...                             | 1                               | VI produced, but check other QA | Quality Lv 6                    | Climatology                     | Yes                             | No                              | No                              | land no desert                  | No                              | No                              | \n",
       "| 2445                            | 0                               | 0                               | 0                               | 0                               | 1                               | 0                               | 0                               | 1                               | 1                               | ...                             | 1                               | VI produced, but check other QA | Quality Lv 4                    | Average                         | Yes                             | No                              | No                              | land no desert                  | No                              | No                              | \n",
       "| 2517                            | 0                               | 0                               | 0                               | 0                               | 1                               | 0                               | 0                               | 1                               | 1                               | ...                             | 1                               | VI produced, but check other QA | Quality Lv 6                    | High                            | Yes                             | No                              | No                              | land no desert                  | No                              | No                              | \n",
       "| 2521                            | 0                               | 0                               | 0                               | 0                               | 1                               | 0                               | 0                               | 1                               | 1                               | ...                             | 1                               | VI produced, but check other QA | Quality Lv 7                    | High                            | Yes                             | No                              | No                              | land no desert                  | No                              | No                              | \n",
       "\n",
       "\n"
      ],
      "text/plain": [
       "   Integer_Value Bit15 Bit14 Bit13 Bit12 Bit11 Bit10 Bit9 Bit8 Bit7 ... Bit0\n",
       "1  2061          0     0     0     0     1     0     0    0    0    ... 1   \n",
       "2  2065          0     0     0     0     1     0     0    0    0    ... 1   \n",
       "3  2124          0     0     0     0     1     0     0    0    0    ... 0   \n",
       "4  2189          0     0     0     0     1     0     0    0    1    ... 1   \n",
       "5  2257          0     0     0     0     1     0     0    0    1    ... 1   \n",
       "6  2261          0     0     0     0     1     0     0    0    1    ... 1   \n",
       "7  2325          0     0     0     0     1     0     0    1    0    ... 1   \n",
       "8  2445          0     0     0     0     1     0     0    1    1    ... 1   \n",
       "9  2517          0     0     0     0     1     0     0    1    1    ... 1   \n",
       "10 2521          0     0     0     0     1     0     0    1    1    ... 1   \n",
       "   MODLAND_QA                      VI_usefulness Aerosol_quantity\n",
       "1  VI produced, but check other QA Quality Lv 4  Climatology     \n",
       "2  VI produced, but check other QA Quality Lv 5  Climatology     \n",
       "3  VI produced, good quality       Quality Lv 4  Low             \n",
       "4  VI produced, but check other QA Quality Lv 4  Average         \n",
       "5  VI produced, but check other QA Quality Lv 5  High            \n",
       "6  VI produced, but check other QA Quality Lv 6  High            \n",
       "7  VI produced, but check other QA Quality Lv 6  Climatology     \n",
       "8  VI produced, but check other QA Quality Lv 4  Average         \n",
       "9  VI produced, but check other QA Quality Lv 6  High            \n",
       "10 VI produced, but check other QA Quality Lv 7  High            \n",
       "   Adjacent_cloud_detected Atmosphere_BRDF_correction_performed Mixed_clouds\n",
       "1  No                      No                                   No          \n",
       "2  No                      No                                   No          \n",
       "3  No                      No                                   No          \n",
       "4  No                      No                                   No          \n",
       "5  No                      No                                   No          \n",
       "6  No                      No                                   No          \n",
       "7  Yes                     No                                   No          \n",
       "8  Yes                     No                                   No          \n",
       "9  Yes                     No                                   No          \n",
       "10 Yes                     No                                   No          \n",
       "   Land_Water_flag Possible_snow_ice Possible_shadow\n",
       "1  land no desert  No                No             \n",
       "2  land no desert  No                No             \n",
       "3  land no desert  No                No             \n",
       "4  land no desert  No                No             \n",
       "5  land no desert  No                No             \n",
       "6  land no desert  No                No             \n",
       "7  land no desert  No                No             \n",
       "8  land no desert  No                No             \n",
       "9  land no desert  No                No             \n",
       "10 land no desert  No                No             "
      ]
     },
     "metadata": {},
     "output_type": "display_data"
    }
   ],
   "source": [
    "MODLAND_QA <- c('Pixel produced, but most probably cloudy','Pixel not produced due to other reasons than clouds')\n",
    "VI_usefulness <- c(\"Quality Lv 4\",\"Quality Lv 5\",\"Quality Lv 6\",\"Quality Lv 7\",\"Quality Lv 8\",\"Quality Lv 9\",\"Quality Lv 10\",\"Quality Lv 11\",\"Quality Lv 12\",\"Quality Lv 13\",\n",
    "                   \"Quality so low that it is not useful\",\"L1B data faulty\",\"Not useful for any other reason/not processed\")\n",
    "Aerosol_quantity <- \"High\"\n",
    "Adjacent_cloud_detected <- \"Yes\"\n",
    "Possible_shadow <- \"Yes\"\n",
    "\n",
    "QC_Data <- QC_Data[QC_Data$MODLAND_QA %in% MODLAND_QA | \n",
    "                    QC_Data$VI_usefulness %in% VI_usefulness | \n",
    "                    QC_Data$Aerosol_quantity == Aerosol_quantity | \n",
    "                    QC_Data$Adjacent_cloud_detected == Adjacent_cloud_detected |\n",
    "                    QC_Data$Possible_shadow == Possible_shadow \n",
    "                   ,]\n",
    "rownames(QC_Data) <- NULL\n",
    "head(QC_Data,10)"
   ]
  },
  {
   "cell_type": "code",
   "execution_count": 16,
   "metadata": {},
   "outputs": [],
   "source": [
    "filter <- QC_Data$Integer_Value # We will remove these values\n",
    "\n",
    "for(tstep in seq(1, length(calendar_dates), by = 1)){ # Loop through timesteps\n",
    "    filt <- which(qcvalues[tstep,] %in% filter) # Make mask from QC layer\n",
    "    prodvalues[tstep,filt] <- NA # Set EVI columns to NA\n",
    "    \n",
    "}"
   ]
  },
  {
   "cell_type": "markdown",
   "metadata": {},
   "source": [
    "The EVI time series is filtered now. \n",
    "Remember there are 81 EVI values for each date. The plot is the mean and standard deviation for each date.\n",
    "Blue bars are the % of pixels that pass the quality criteria, 100% is 81\n",
    "Quality Control is important because you do not want to build TS with poor quality pixels.  This happens in areas with rainy season.\n",
    "The last of the 3 plots is the EVI stacked by year.  Showing low EVI year due to fire occurrence."
   ]
  },
  {
   "cell_type": "code",
   "execution_count": 17,
   "metadata": {},
   "outputs": [
    {
     "data": {},
     "metadata": {},
     "output_type": "display_data"
    },
    {
     "data": {},
     "metadata": {},
     "output_type": "display_data"
    },
    {
     "data": {
      "image/png": "[encoded data removed]",
      "text/plain": [
       "plot without title"
      ]
     },
     "metadata": {},
     "output_type": "display_data"
    },
    {
     "data": {},
     "metadata": {},
     "output_type": "display_data"
    },
    {
     "data": {
      "image/png": "[encoded data removed]",
      "text/plain": [
       "plot without title"
      ]
     },
     "metadata": {},
     "output_type": "display_data"
    },
    {
     "data": {
      "image/png": "[encoded data removed]",
      "text/plain": [
       "plot without title"
      ]
     },
     "metadata": {},
     "output_type": "display_data"
    }
   ],
   "source": [
    "prodvalues <- prodvalues*as.numeric(scale) # Apply scale factor\n",
    "pltdate <- unlist(calendar_dates)\n",
    "\n",
    "prodstats <- data.frame(\n",
    "    date = as.Date(pltdate),\n",
    "    year = substr(pltdate,start=1,stop=4),\n",
    "    doy = substr(unlist(modis_dates),start=6,stop=8),\n",
    "    mean = rowMeans(prodvalues, na.rm=TRUE), \n",
    "    sd = apply(prodvalues, 1, sd, na.rm = TRUE),\n",
    "    quality = apply(prodvalues, 1, function(x) sum(!is.na(x))/(nrow*ncol)*100))\n",
    "                    \n",
    "# Get min and max of the calculated means\n",
    "meanMax <- max(prodstats$mean, na.rm = TRUE)\n",
    "meanMin <- min(prodstats$mean, na.rm = TRUE)     \n",
    "# Create simple function to scale the quality values to the mean values for plotting\n",
    "scaleq <- function(x){((x-0)/(100-0))*(meanMax-meanMin)+meanMin}\n",
    "\n",
    "# find the 68% confidence intervals around the mean\n",
    "y1 <- prodstats$mean + prodstats$sd \n",
    "y2 <- prodstats$mean - prodstats$sd\n",
    "\n",
    "plot3 <- ggplot(prodstats) +\n",
    "    # Data quality\n",
    "    geom_col(aes(y=scaleq(prodstats$quality), x=date), fill= 'blue', alpha = 0.2) +\n",
    "    scale_y_continuous(limits = c(meanMin, meanMax), oob = rescale_none, sec.axis = sec_axis(~((. - meanMin)/(meanMax - meanMin))*100, name = \"% Good Pixels\")) +\n",
    "                    \n",
    "    # LST mean and sd\n",
    "    geom_ribbon(aes(ymin=y2, ymax=y1, x=date), fill = 'darkgray', alpha = 0.75) + # draw the shaded area for 68% CI\n",
    "    geom_line(aes(y=mean, x=date), colour = '#2D708EFF', size=1.2) + # draw the line for the mean value  \n",
    "    \n",
    "    labs(title = 'VNP13A1 Enhanced Vegetation Index 2', subtitle = 'Subset Mean and 68% CI') +\n",
    "    ylab('EVI') + # add a y-axis label\n",
    "    xlab(\"Date\") + # add a x-axis label\n",
    "    theme_bw() + # set the plot theme\n",
    "    theme(plot.title = element_text(lineheight=.8, face=\"bold\", size=16), \n",
    "        axis.title.x = element_text(face=\"bold\", size=14), \n",
    "        axis.title.y = element_text(face=\"bold\", size=14), \n",
    "        axis.text.x = element_text(size=12), \n",
    "        axis.text.y = element_text(size=12)) # set optional theme elements\n",
    "\n",
    "plot5 <- ggplot(prodstats, aes(x=doy, y=mean, color=year)) + \n",
    "    scale_color_viridis(discrete=T) + \n",
    "    geom_point(size=3) + \n",
    "    geom_smooth(aes(group=year), method = 'loess', se=FALSE, size=1.2) + \n",
    "    labs(title = 'VNP13A1 Enhanced Vegetation Index 2', subtitle = 'Subset Mean and 68% CI') +\n",
    "    ylab('EVI') + # add a y-axis label\n",
    "    xlab(\"Date\") + # add a x-axis label\n",
    "    theme_bw() + # set the plot theme\n",
    "    theme(plot.title = element_text(lineheight=.8, face=\"bold\", size=16), \n",
    "        axis.title.x = element_text(face=\"bold\", size=14), \n",
    "        axis.title.y = element_text(face=\"bold\", size=14), \n",
    "        axis.text.x = element_text(size=12, angle=90), \n",
    "        axis.text.y = element_text(size=12)) # set optional theme elements                  \n",
    "                    \n",
    "prodstats2 <- prodstats[prodstats$date %in% pltdate[which(pltdate == '2016-01-01'):which(pltdate == '2018-01-01')],]\n",
    "meanMax2 <- max(prodstats2$mean, na.rm = TRUE)\n",
    "meanMin2 <- min(prodstats2$mean, na.rm = TRUE)     \n",
    "plot4 <- ggplot(prodstats2) +\n",
    "    # Data quality\n",
    "    geom_col(aes(y=(((prodstats2$quality-0)/(100-0))*(meanMax2-meanMin2)+meanMin2), x=date), fill= 'blue', alpha = 0.2) +\n",
    "    scale_y_continuous(limits = c(meanMin2, meanMax2), oob = rescale_none, sec.axis = sec_axis(~((. - meanMin2)/(meanMax2 - meanMin2))*100, name = \"% Good Pixels\")) +\n",
    "    # LST mean and sd\n",
    "    geom_ribbon(aes(ymin=(prodstats2$mean - prodstats2$sd), ymax=(prodstats2$mean + prodstats2$sd), x=date), fill = 'darkgray', alpha = 0.75) + # draw the shaded area for 68% CI\n",
    "    geom_line(aes(y=mean, x=date), colour = '#2D708EFF', size=1.2) + # draw the line for the mean value  \n",
    "    labs(title = ' ', subtitle = ' ') +\n",
    "    ylab('EVI') + # add a y-axis label\n",
    "    xlab(\"Date\") + # add a x-axis label\n",
    "    theme_bw() + # set the plot theme\n",
    "    theme(plot.title = element_text(lineheight=.8, face=\"bold\", size=16), \n",
    "        axis.title.x = element_text(face=\"bold\", size=14), \n",
    "        axis.title.y = element_text(face=\"bold\", size=14), \n",
    "        axis.text.x = element_text(size=12), \n",
    "        axis.text.y = element_text(size=12)) # set optional theme elements\n",
    "                    \n",
    "        \n",
    "options(repr.plot.width = 10, repr.plot.height = 3)\n",
    "plot3\n",
    "plot4\n",
    "plot5"
   ]
  },
  {
   "cell_type": "code",
   "execution_count": 18,
   "metadata": {},
   "outputs": [
    {
     "data": {
      "image/png": "[encoded data removed]",
      "text/plain": [
       "plot without title"
      ]
     },
     "metadata": {},
     "output_type": "display_data"
    }
   ],
   "source": [
    "# Get array of unfiltered product values\n",
    "array_nofilter <- t(as.data.frame(proddata[proddata$calendar_date == \"2018-06-26\",'data'], check.names=FALSE))\n",
    "array_nofilter[array_nofilter == 0] <- NA # Remove fill cells\n",
    "# Get array of QC values\n",
    "array_qc <- qcvalues[\"2018-06-26\",]\n",
    "# Get array filtered LST values\n",
    "array_filter <- prodvalues[\"2018-06-26\",]\n",
    "\n",
    "# Make a raster object from each array\n",
    "r_nofilter <- r_template(array_nofilter, nrow, ncol, xllcorner, yllcorner, cellsize)\n",
    "r_qc <- r_template(array_qc, nrow, ncol, xllcorner, yllcorner, cellsize)\n",
    "r_filter <- r_template(array_filter, nrow, ncol, xllcorner, yllcorner, cellsize)\n",
    "\n",
    "# Plot them with rasterVis::levelplot\n",
    "r1 <- levelplot(r_nofilter, main = \"Unfiltered EVI2\", margin = FALSE)\n",
    "r2 <- levelplot(r_qc, main = \"QC Layer\", margin = FALSE)\n",
    "r3 <- levelplot(r_filter, main = \"Filtered EVI2\", margin = FALSE)\n",
    "\n",
    "# Print them with gridExtra::grid.arrange\n",
    "grid.arrange(r1, r2, r3, ncol=3)"
   ]
  },
  {
   "cell_type": "code",
   "execution_count": 19,
   "metadata": {},
   "outputs": [
    {
     "data": {
      "text/html": [
       "<table>\n",
       "<tbody>\n",
       "\t<tr><th scope=row>2016-01-01</th><td>4  </td><td>4  </td><td>4  </td><td>4  </td><td>4  </td><td>4  </td><td>4  </td><td>4  </td><td>4  </td><td>4  </td><td>...</td><td>4  </td><td>4  </td><td>4  </td><td>4  </td><td>4  </td><td>4  </td><td>4  </td><td>4  </td><td>4  </td><td>4  </td></tr>\n",
       "</tbody>\n",
       "</table>\n"
      ],
      "text/latex": [
       "\\begin{tabular}{r|lllllllllllllllllllllllllllllllllllllllllllllllllllllllllllllllllllllllllllllllll}\n",
       "\t2016-01-01 & 4   & 4   & 4   & 4   & 4   & 4   & 4   & 4   & 4   & 4   & ... & 4   & 4   & 4   & 4   & 4   & 4   & 4   & 4   & 4   & 4  \\\\\n",
       "\\end{tabular}\n"
      ],
      "text/markdown": [
       "\n",
       "| 2016-01-01 | 4   | 4   | 4   | 4   | 4   | 4   | 4   | 4   | 4   | 4   | ... | 4   | 4   | 4   | 4   | 4   | 4   | 4   | 4   | 4   | 4   | \n",
       "\n",
       "\n"
      ],
      "text/plain": [
       "           [,1] [,2] [,3] [,4] [,5] [,6] [,7] [,8] [,9] [,10] [,11] [,12] [,13]\n",
       "2016-01-01 4    4    4    4    4    4    4    4    4    4     ...   4     4    \n",
       "           [,14] [,15] [,16] [,17] [,18] [,19] [,20] [,21]\n",
       "2016-01-01 4     4     4     4     4     4     4     4    "
      ]
     },
     "metadata": {},
     "output_type": "display_data"
    }
   ],
   "source": [
    "#Time series by land cover type\n",
    "r <- GET(request_url <- requestURL(lat, lon, 'MCD12Q1', 'LC_Type1', \"A2016001\", \"A2016001\", above_below, left_right))\n",
    "\n",
    "lcsubset <- fromJSON(toJSON(content(r)))\n",
    "\n",
    "saveRDS(lcsubset$subset, file = \"D:/data/lcdata.rds\")\n",
    "\n",
    "lcdata <- readRDS(file = \"D:/data/lcdata.rds\")\n",
    "# Format as \"CSV-like\" data frame\n",
    "lcvalues <- t(as.data.frame(lcdata$data, col.names=lcdata$calendar_date, check.names=FALSE))\n",
    "lcvalues\n"
   ]
  },
  {
   "cell_type": "code",
   "execution_count": 20,
   "metadata": {},
   "outputs": [
    {
     "data": {
      "text/html": [
       "<table>\n",
       "<thead><tr><th scope=col>Value</th><th scope=col>LCType</th><th scope=col>Color</th></tr></thead>\n",
       "<tbody>\n",
       "\t<tr><td>  1                               </td><td>Evergreen Needleleaf Forest       </td><td>#008000                           </td></tr>\n",
       "\t<tr><td>  2                               </td><td>Evergreen Broadleaf Forest        </td><td>#00FF00                           </td></tr>\n",
       "\t<tr><td>  3                               </td><td>Deciduous Needleleaf Forest       </td><td>#99CC00                           </td></tr>\n",
       "\t<tr><td>  4                               </td><td>Deciduous Broadleaf Forest        </td><td>#99FF99                           </td></tr>\n",
       "\t<tr><td>  5                               </td><td>Mixed Forests                     </td><td>#339966                           </td></tr>\n",
       "\t<tr><td>  6                               </td><td>Closed Shrublands                 </td><td>#993366                           </td></tr>\n",
       "\t<tr><td>  7                               </td><td>Open Shrublands                   </td><td>#FFCC99                           </td></tr>\n",
       "\t<tr><td>  8                               </td><td>Woody Savannas                    </td><td>#CCFFCC                           </td></tr>\n",
       "\t<tr><td>  9                               </td><td>Savannas                          </td><td>#FFCC00                           </td></tr>\n",
       "\t<tr><td> 10                               </td><td>Grasslands                        </td><td>#FF9900                           </td></tr>\n",
       "\t<tr><td> 11                               </td><td>Permanent Wetlands                </td><td>#006699                           </td></tr>\n",
       "\t<tr><td> 12                               </td><td>Croplands                         </td><td>#FFFF00                           </td></tr>\n",
       "\t<tr><td> 13                               </td><td>Urban and Built-Up                </td><td>#FF0000                           </td></tr>\n",
       "\t<tr><td> 14                               </td><td>Cropland/Natural Vegetation Mosaic</td><td>#999966                           </td></tr>\n",
       "\t<tr><td> 15                               </td><td>Snow and Ice                      </td><td>#FFFFFF                           </td></tr>\n",
       "\t<tr><td> 16                               </td><td>Barren or Sparsely Vegetated      </td><td>#808080                           </td></tr>\n",
       "\t<tr><td> 17                               </td><td>Water Bodies                      </td><td>#000080                           </td></tr>\n",
       "\t<tr><td>255                               </td><td>Unclassified                      </td><td>#000000                           </td></tr>\n",
       "</tbody>\n",
       "</table>\n"
      ],
      "text/latex": [
       "\\begin{tabular}{r|lll}\n",
       " Value & LCType & Color\\\\\n",
       "\\hline\n",
       "\t   1                                & Evergreen Needleleaf Forest        & \\#008000                         \\\\\n",
       "\t   2                                & Evergreen Broadleaf Forest         & \\#00FF00                         \\\\\n",
       "\t   3                                & Deciduous Needleleaf Forest        & \\#99CC00                         \\\\\n",
       "\t   4                                & Deciduous Broadleaf Forest         & \\#99FF99                         \\\\\n",
       "\t   5                                & Mixed Forests                      & \\#339966                         \\\\\n",
       "\t   6                                & Closed Shrublands                  & \\#993366                         \\\\\n",
       "\t   7                                & Open Shrublands                    & \\#FFCC99                         \\\\\n",
       "\t   8                                & Woody Savannas                     & \\#CCFFCC                         \\\\\n",
       "\t   9                                & Savannas                           & \\#FFCC00                         \\\\\n",
       "\t  10                                & Grasslands                         & \\#FF9900                         \\\\\n",
       "\t  11                                & Permanent Wetlands                 & \\#006699                         \\\\\n",
       "\t  12                                & Croplands                          & \\#FFFF00                         \\\\\n",
       "\t  13                                & Urban and Built-Up                 & \\#FF0000                         \\\\\n",
       "\t  14                                & Cropland/Natural Vegetation Mosaic & \\#999966                         \\\\\n",
       "\t  15                                & Snow and Ice                       & \\#FFFFFF                         \\\\\n",
       "\t  16                                & Barren or Sparsely Vegetated       & \\#808080                         \\\\\n",
       "\t  17                                & Water Bodies                       & \\#000080                         \\\\\n",
       "\t 255                                & Unclassified                       & \\#000000                         \\\\\n",
       "\\end{tabular}\n"
      ],
      "text/markdown": [
       "\n",
       "Value | LCType | Color | \n",
       "|---|---|---|---|---|---|---|---|---|---|---|---|---|---|---|---|---|---|\n",
       "|   1                                | Evergreen Needleleaf Forest        | #008000                            | \n",
       "|   2                                | Evergreen Broadleaf Forest         | #00FF00                            | \n",
       "|   3                                | Deciduous Needleleaf Forest        | #99CC00                            | \n",
       "|   4                                | Deciduous Broadleaf Forest         | #99FF99                            | \n",
       "|   5                                | Mixed Forests                      | #339966                            | \n",
       "|   6                                | Closed Shrublands                  | #993366                            | \n",
       "|   7                                | Open Shrublands                    | #FFCC99                            | \n",
       "|   8                                | Woody Savannas                     | #CCFFCC                            | \n",
       "|   9                                | Savannas                           | #FFCC00                            | \n",
       "|  10                                | Grasslands                         | #FF9900                            | \n",
       "|  11                                | Permanent Wetlands                 | #006699                            | \n",
       "|  12                                | Croplands                          | #FFFF00                            | \n",
       "|  13                                | Urban and Built-Up                 | #FF0000                            | \n",
       "|  14                                | Cropland/Natural Vegetation Mosaic | #999966                            | \n",
       "|  15                                | Snow and Ice                       | #FFFFFF                            | \n",
       "|  16                                | Barren or Sparsely Vegetated       | #808080                            | \n",
       "|  17                                | Water Bodies                       | #000080                            | \n",
       "| 255                                | Unclassified                       | #000000                            | \n",
       "\n",
       "\n"
      ],
      "text/plain": [
       "   Value LCType                             Color  \n",
       "1    1   Evergreen Needleleaf Forest        #008000\n",
       "2    2   Evergreen Broadleaf Forest         #00FF00\n",
       "3    3   Deciduous Needleleaf Forest        #99CC00\n",
       "4    4   Deciduous Broadleaf Forest         #99FF99\n",
       "5    5   Mixed Forests                      #339966\n",
       "6    6   Closed Shrublands                  #993366\n",
       "7    7   Open Shrublands                    #FFCC99\n",
       "8    8   Woody Savannas                     #CCFFCC\n",
       "9    9   Savannas                           #FFCC00\n",
       "10  10   Grasslands                         #FF9900\n",
       "11  11   Permanent Wetlands                 #006699\n",
       "12  12   Croplands                          #FFFF00\n",
       "13  13   Urban and Built-Up                 #FF0000\n",
       "14  14   Cropland/Natural Vegetation Mosaic #999966\n",
       "15  15   Snow and Ice                       #FFFFFF\n",
       "16  16   Barren or Sparsely Vegetated       #808080\n",
       "17  17   Water Bodies                       #000080\n",
       "18 255   Unclassified                       #000000"
      ]
     },
     "metadata": {},
     "output_type": "display_data"
    }
   ],
   "source": [
    "lctab <- \"\n",
    "Value,LCType,Color\n",
    "1,Evergreen Needleleaf Forest,#008000\n",
    "2,Evergreen Broadleaf Forest,#00FF00\n",
    "3,Deciduous Needleleaf Forest,#99CC00\n",
    "4,Deciduous Broadleaf Forest,#99FF99\n",
    "5,Mixed Forests,#339966\n",
    "6,Closed Shrublands,#993366\n",
    "7,Open Shrublands,#FFCC99\n",
    "8,Woody Savannas,#CCFFCC\n",
    "9,Savannas,#FFCC00\n",
    "10,Grasslands,#FF9900\n",
    "11,Permanent Wetlands,#006699\n",
    "12,Croplands,#FFFF00\n",
    "13,Urban and Built-Up,#FF0000\n",
    "14,Cropland/Natural Vegetation Mosaic,#999966\n",
    "15,Snow and Ice,#FFFFFF\n",
    "16,Barren or Sparsely Vegetated,#808080\n",
    "17,Water Bodies,#000080\n",
    "255,Unclassified,#000000\n",
    "\"\n",
    "lctab <- read.csv(text = lctab, header = TRUE, stringsAsFactors = FALSE)\n",
    "lctab"
   ]
  },
  {
   "cell_type": "code",
   "execution_count": 21,
   "metadata": {},
   "outputs": [
    {
     "data": {
      "text/html": [
       "<table>\n",
       "<thead><tr><th></th><th scope=col>Deciduous Broadleaf Forest</th><th scope=col>Woody Savannas</th><th scope=col>Urban and Built-Up</th><th scope=col>Date</th></tr></thead>\n",
       "<tbody>\n",
       "\t<tr><th scope=row>2012-01-17</th><td>0.1859762 </td><td>0.1862000 </td><td>0.1941667 </td><td>2012-01-17</td></tr>\n",
       "\t<tr><th scope=row>2012-01-25</th><td>0.2241921 </td><td>0.2161667 </td><td>0.2224833 </td><td>2012-01-25</td></tr>\n",
       "\t<tr><th scope=row>2012-02-02</th><td>0.2329032 </td><td>0.2114667 </td><td>0.2258833 </td><td>2012-02-02</td></tr>\n",
       "\t<tr><th scope=row>2012-02-10</th><td>0.2311365 </td><td>0.2097667 </td><td>0.2137667 </td><td>2012-02-10</td></tr>\n",
       "\t<tr><th scope=row>2012-02-18</th><td>0.2321746 </td><td>0.2220500 </td><td>0.2257250 </td><td>2012-02-18</td></tr>\n",
       "</tbody>\n",
       "</table>\n"
      ],
      "text/latex": [
       "\\begin{tabular}{r|llll}\n",
       "  & Deciduous Broadleaf Forest & Woody Savannas & Urban and Built-Up & Date\\\\\n",
       "\\hline\n",
       "\t2012-01-17 & 0.1859762  & 0.1862000  & 0.1941667  & 2012-01-17\\\\\n",
       "\t2012-01-25 & 0.2241921  & 0.2161667  & 0.2224833  & 2012-01-25\\\\\n",
       "\t2012-02-02 & 0.2329032  & 0.2114667  & 0.2258833  & 2012-02-02\\\\\n",
       "\t2012-02-10 & 0.2311365  & 0.2097667  & 0.2137667  & 2012-02-10\\\\\n",
       "\t2012-02-18 & 0.2321746  & 0.2220500  & 0.2257250  & 2012-02-18\\\\\n",
       "\\end{tabular}\n"
      ],
      "text/markdown": [
       "\n",
       "| <!--/--> | Deciduous Broadleaf Forest | Woody Savannas | Urban and Built-Up | Date | \n",
       "|---|---|---|---|---|\n",
       "| 2012-01-17 | 0.1859762  | 0.1862000  | 0.1941667  | 2012-01-17 | \n",
       "| 2012-01-25 | 0.2241921  | 0.2161667  | 0.2224833  | 2012-01-25 | \n",
       "| 2012-02-02 | 0.2329032  | 0.2114667  | 0.2258833  | 2012-02-02 | \n",
       "| 2012-02-10 | 0.2311365  | 0.2097667  | 0.2137667  | 2012-02-10 | \n",
       "| 2012-02-18 | 0.2321746  | 0.2220500  | 0.2257250  | 2012-02-18 | \n",
       "\n",
       "\n"
      ],
      "text/plain": [
       "           Deciduous Broadleaf Forest Woody Savannas Urban and Built-Up\n",
       "2012-01-17 0.1859762                  0.1862000      0.1941667         \n",
       "2012-01-25 0.2241921                  0.2161667      0.2224833         \n",
       "2012-02-02 0.2329032                  0.2114667      0.2258833         \n",
       "2012-02-10 0.2311365                  0.2097667      0.2137667         \n",
       "2012-02-18 0.2321746                  0.2220500      0.2257250         \n",
       "           Date      \n",
       "2012-01-17 2012-01-17\n",
       "2012-01-25 2012-01-25\n",
       "2012-02-02 2012-02-02\n",
       "2012-02-10 2012-02-10\n",
       "2012-02-18 2012-02-18"
      ]
     },
     "metadata": {},
     "output_type": "display_data"
    }
   ],
   "source": [
    "# Initialize data frame with a column for each land cover type\n",
    "lcmeans <- data.frame(matrix(ncol = length(unique(lctab$Value)), nrow = 0))\n",
    "colnames(lcmeans) <- c(lctab$LCType)\n",
    "\n",
    "# Loop through timesteps\n",
    "for(tstep in seq(1, length(calendar_dates), by = 1)){\n",
    "    # Get mean of pixels matching each land cover type for that year and append to lcmeans\n",
    "    tstepmeans = lapply(lctab$Value, function(type) mean(prodvalues[tstep,][which(lcvalues[1,] %in% type)], na.rm = TRUE))\n",
    "    lcmeans[tstep,] <- unlist(tstepmeans)\n",
    "}\n",
    "\n",
    "# Add Date column to lcmeans\n",
    "rownames(lcmeans) <- calendar_dates\n",
    "lcmeans <- lcmeans[,colSums(is.na(lcmeans))<nrow(lcmeans)]\n",
    "lcmeans$Date <- as.Date(rownames(lcmeans))\n",
    "                            \n",
    "head(lcmeans, 5)"
   ]
  },
  {
   "cell_type": "markdown",
   "metadata": {},
   "source": [
    "Note that \"reshape::melt\" requires to install a package called \"reshape\", not installed at the begginig.  So make sure to install such package, load the libarary and tun the next cell.  You may need to install this library directly on R before the plot5"
   ]
  },
  {
   "cell_type": "code",
   "execution_count": 22,
   "metadata": {},
   "outputs": [
    {
     "name": "stderr",
     "output_type": "stream",
     "text": [
      "Installing package into 'C:/Users/janaya/Documents/R/win-library/3.5'\n",
      "(as 'lib' is unspecified)\n"
     ]
    },
    {
     "ename": "ERROR",
     "evalue": "Error in contrib.url(repos, \"source\"): trying to use CRAN without setting a mirror\n",
     "output_type": "error",
     "traceback": [
      "Error in contrib.url(repos, \"source\"): trying to use CRAN without setting a mirror\nTraceback:\n",
      "1. install.packages(\"reshape\")",
      "2. contrib.url(repos, \"source\")",
      "3. stop(\"trying to use CRAN without setting a mirror\")"
     ]
    }
   ],
   "source": [
    "# Use reshape::melt to convert table to long format:\n",
    "\n",
    "\n",
    "\n",
    "lcmeans_long <- reshape::melt(lcmeans, id.vars=\"Date\")\n",
    "\n",
    "plot5 <- ggplot(na.omit(lcmeans_long), aes(x = as.Date(Date), y=value, color=variable)) + \n",
    "    scale_color_viridis(discrete=T) + \n",
    "    geom_line(aes(group=variable), size=1.2) +\n",
    "    labs(title = 'VIIRS EVI2 (VNP13A1) by Land Cover Type (MCD12Q1)') +\n",
    "    ylab('EVI') + # add a y-axis label\n",
    "    xlab(\"Date\") + # add a x-axis label\n",
    "    theme_bw() + # set the plot theme\n",
    "    theme(\n",
    "        plot.title = element_text(lineheight=.8, face=\"bold\", size=16), \n",
    "        axis.title.x = element_text(face=\"bold\", size=14), \n",
    "        axis.title.y = element_text(face=\"bold\", size=14), \n",
    "        axis.text.x = element_text(size=12), \n",
    "        axis.text.y = element_text(size=12)) # set optional theme elements\n",
    "\n",
    "plot5"
   ]
  },
  {
   "cell_type": "code",
   "execution_count": 23,
   "metadata": {},
   "outputs": [
    {
     "data": {},
     "metadata": {},
     "output_type": "display_data"
    },
    {
     "data": {
      "image/png": "[encoded data removed]",
      "text/plain": [
       "plot without title"
      ]
     },
     "metadata": {},
     "output_type": "display_data"
    }
   ],
   "source": [
    "lcmeans_long <- reshape::melt(lcmeans, id.vars=\"Date\")\n",
    "\n",
    "plot5 <- ggplot(na.omit(lcmeans_long), aes(x = as.Date(Date), y=value, color=variable)) + \n",
    "    scale_color_viridis(discrete=T) + \n",
    "    geom_line(aes(group=variable), size=1.2) +\n",
    "    labs(title = 'VIIRS EVI2 (VNP13A1) by Land Cover Type (MCD12Q1)') +\n",
    "    ylab('EVI') + # add a y-axis label\n",
    "    xlab(\"Date\") + # add a x-axis label\n",
    "    theme_bw() + # set the plot theme\n",
    "    theme(\n",
    "        plot.title = element_text(lineheight=.8, face=\"bold\", size=16), \n",
    "        axis.title.x = element_text(face=\"bold\", size=14), \n",
    "        axis.title.y = element_text(face=\"bold\", size=14), \n",
    "        axis.text.x = element_text(size=12), \n",
    "        axis.text.y = element_text(size=12)) # set optional theme elements\n",
    "\n",
    "plot5"
   ]
  }
 ],
 "metadata": {
  "kernelspec": {
   "display_name": "R",
   "language": "R",
   "name": "ir"
  },
  "language_info": {
   "codemirror_mode": "r",
   "file_extension": ".r",
   "mimetype": "text/x-r-source",
   "name": "R",
   "pygments_lexer": "r",
   "version": "3.5.1"
  }
 },
 "nbformat": 4,
 "nbformat_minor": 2
}
